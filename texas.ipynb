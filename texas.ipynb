{
 "cells": [
  {
   "cell_type": "markdown",
   "metadata": {},
   "source": [
    "<h1>Capstone Data Science Project Notebook</h1> "
   ]
  },
  {
   "cell_type": "markdown",
   "metadata": {},
   "source": [
    "<h2> I. Introduction/Business Problem</h2>"
   ]
  },
  {
   "cell_type": "markdown",
   "metadata": {},
   "source": [
    "<p>In the United States, traffic accidents involving motor vehicles cause over 100 deaths per day, and are leading cause of death in the US, as reported by the Center for Desease Control and Prevention <a href=\"https://www.cdc.gov/motorvehiclesafety/costs/index.html\">(CDC)</a>. In addition to the cost of human life, there is an enourmous impact economic impact as well, which exceeds $75 billion for the cost of related productivity losses and medical care.</p>  \n",
    "<p>This project seeks to explor a range of factors that may affect the severity of automobile accidents. For the purpost of this project, and given the 3rd-party data used for analysis, \"severity\" is to be understood as the impact on the traffic as measuresd by the lenght of the traffic delay casued by the accident. Insights from this project would be particularly useful to city transportation, safety, and zoning departments.</p> \n",
    "<p>By understanding what factors contribute to more severe accidents, city officials would be able to plan better and safer cities, and more effectively deploy city resources in response to traffic accidents. If there are patterns to location, weather condition, and points of interest around traffic accidents, then city officials would be better able to address this and related issues.</p>"
   ]
  },
  {
   "cell_type": "markdown",
   "metadata": {},
   "source": [
    "<h2> II. Data</h2>\n",
    "\n",
    "<p>The data being used for this project is from a dataset made available through the research from the following papers:</p>\n",
    "  <ul>\n",
    "    <li>Moosavi, Sobhan, Mohammad Hossein Samavatian, Srinivasan Parthasarathy, and Rajiv Ramnath. “A Countrywide Traffic Accident Dataset.”, arXiv preprint arXiv:1906.05409 (2019).</li>\n",
    "    <li>Moosavi, Sobhan, Mohammad Hossein Samavatian, Srinivasan Parthasarathy, Radu Teodorescu, and Rajiv Ramnath. “Accident Risk Prediction based on Heterogeneous Sparse Data: New Dataset and Insights.” In proceedings of the 27th ACM SIGSPATIAL International Conference on Advances in Geographic Information Systems, ACM, 2019.</li>\n",
    "  </ul>\n",
    "<p>The data was collected between February 2016 and June 2020, includes approximately 3.5 million traffic accidents, and was collected from 49 states in the US. The dataset includes attributes that detail:</p>\n",
    "  <ul>\n",
    "    <li>weather conditions (i.e. temperature, precipitation, wind speed, etc.),</li>\n",
    "    <li>location information (i.e., coordinates, street address, city, state),</li>\n",
    "    <li>points of interest nearby the traffic accident (i.e., crossing, speed bump, station, railway, stop, traffic signal),</li> \n",
    "  </ul>\n",
    "<p>and other attributes pertaining to the observed traffic accidents.</p>\n"
   ]
  },
  {
   "cell_type": "markdown",
   "metadata": {},
   "source": [
    "<h3>II.a Importing and Cleaning</h3>"
   ]
  },
  {
   "cell_type": "code",
   "execution_count": 1,
   "metadata": {},
   "outputs": [
    {
     "name": "stdout",
     "output_type": "stream",
     "text": [
      "Hello Capstone Project Course!\n"
     ]
    }
   ],
   "source": [
    "import numpy as np \n",
    "import pandas as pd \n",
    "import seaborn as sns \n",
    "import pylab as pl\n",
    "import matplotlib.pyplot as plt \n",
    "from scipy.stats import norm \n",
    "from scipy import stats\n",
    "%matplotlib inline\n",
    "from sklearn import preprocessing\n",
    "\n",
    "print(\"Hello Capstone Project Course!\")"
   ]
  },
  {
   "cell_type": "code",
   "execution_count": 2,
   "metadata": {},
   "outputs": [
    {
     "data": {
      "text/plain": [
       "'/Users/zacharystrain/github/datascience_certification/scripts'"
      ]
     },
     "execution_count": 2,
     "metadata": {},
     "output_type": "execute_result"
    }
   ],
   "source": [
    "pwd"
   ]
  },
  {
   "cell_type": "code",
   "execution_count": 3,
   "metadata": {},
   "outputs": [
    {
     "name": "stdout",
     "output_type": "stream",
     "text": [
      "file read to dataframe\n"
     ]
    }
   ],
   "source": [
    "df = pd.read_csv(\"US_Accidents_June20.csv\")\n",
    "print(\"file read to dataframe\")"
   ]
  },
  {
   "cell_type": "code",
   "execution_count": 4,
   "metadata": {},
   "outputs": [
    {
     "name": "stdout",
     "output_type": "stream",
     "text": [
      "dropped boring columns\n"
     ]
    }
   ],
   "source": [
    "df.drop(['ID', 'TMC', 'Description', 'Number', 'Street', 'Side', 'City', 'Country','Timezone', 'Airport_Code', 'Weather_Timestamp', 'Turning_Loop'], axis=1, inplace=True)\n",
    "print('dropped boring columns')"
   ]
  },
  {
   "cell_type": "markdown",
   "metadata": {},
   "source": [
    "<p>For the sake of memory, I've dropped a few columns that were discovered to be empty, or which ultimatly did not fit into my feature set(s).</p>"
   ]
  },
  {
   "cell_type": "markdown",
   "metadata": {},
   "source": [
    "<h3>Dropping missing data</h3>"
   ]
  },
  {
   "cell_type": "code",
   "execution_count": 5,
   "metadata": {},
   "outputs": [
    {
     "data": {
      "text/html": [
       "<div>\n",
       "<style scoped>\n",
       "    .dataframe tbody tr th:only-of-type {\n",
       "        vertical-align: middle;\n",
       "    }\n",
       "\n",
       "    .dataframe tbody tr th {\n",
       "        vertical-align: top;\n",
       "    }\n",
       "\n",
       "    .dataframe thead th {\n",
       "        text-align: right;\n",
       "    }\n",
       "</style>\n",
       "<table border=\"1\" class=\"dataframe\">\n",
       "  <thead>\n",
       "    <tr style=\"text-align: right;\">\n",
       "      <th></th>\n",
       "      <th>Source</th>\n",
       "      <th>Severity</th>\n",
       "      <th>Start_Time</th>\n",
       "      <th>End_Time</th>\n",
       "      <th>Start_Lat</th>\n",
       "      <th>Start_Lng</th>\n",
       "      <th>End_Lat</th>\n",
       "      <th>End_Lng</th>\n",
       "      <th>Distance(mi)</th>\n",
       "      <th>County</th>\n",
       "      <th>...</th>\n",
       "      <th>Railway</th>\n",
       "      <th>Roundabout</th>\n",
       "      <th>Station</th>\n",
       "      <th>Stop</th>\n",
       "      <th>Traffic_Calming</th>\n",
       "      <th>Traffic_Signal</th>\n",
       "      <th>Sunrise_Sunset</th>\n",
       "      <th>Civil_Twilight</th>\n",
       "      <th>Nautical_Twilight</th>\n",
       "      <th>Astronomical_Twilight</th>\n",
       "    </tr>\n",
       "  </thead>\n",
       "  <tbody>\n",
       "    <tr>\n",
       "      <th>0</th>\n",
       "      <td>False</td>\n",
       "      <td>False</td>\n",
       "      <td>False</td>\n",
       "      <td>False</td>\n",
       "      <td>False</td>\n",
       "      <td>False</td>\n",
       "      <td>True</td>\n",
       "      <td>True</td>\n",
       "      <td>False</td>\n",
       "      <td>False</td>\n",
       "      <td>...</td>\n",
       "      <td>False</td>\n",
       "      <td>False</td>\n",
       "      <td>False</td>\n",
       "      <td>False</td>\n",
       "      <td>False</td>\n",
       "      <td>False</td>\n",
       "      <td>False</td>\n",
       "      <td>False</td>\n",
       "      <td>False</td>\n",
       "      <td>False</td>\n",
       "    </tr>\n",
       "    <tr>\n",
       "      <th>1</th>\n",
       "      <td>False</td>\n",
       "      <td>False</td>\n",
       "      <td>False</td>\n",
       "      <td>False</td>\n",
       "      <td>False</td>\n",
       "      <td>False</td>\n",
       "      <td>True</td>\n",
       "      <td>True</td>\n",
       "      <td>False</td>\n",
       "      <td>False</td>\n",
       "      <td>...</td>\n",
       "      <td>False</td>\n",
       "      <td>False</td>\n",
       "      <td>False</td>\n",
       "      <td>False</td>\n",
       "      <td>False</td>\n",
       "      <td>False</td>\n",
       "      <td>False</td>\n",
       "      <td>False</td>\n",
       "      <td>False</td>\n",
       "      <td>False</td>\n",
       "    </tr>\n",
       "    <tr>\n",
       "      <th>2</th>\n",
       "      <td>False</td>\n",
       "      <td>False</td>\n",
       "      <td>False</td>\n",
       "      <td>False</td>\n",
       "      <td>False</td>\n",
       "      <td>False</td>\n",
       "      <td>True</td>\n",
       "      <td>True</td>\n",
       "      <td>False</td>\n",
       "      <td>False</td>\n",
       "      <td>...</td>\n",
       "      <td>False</td>\n",
       "      <td>False</td>\n",
       "      <td>False</td>\n",
       "      <td>False</td>\n",
       "      <td>False</td>\n",
       "      <td>False</td>\n",
       "      <td>False</td>\n",
       "      <td>False</td>\n",
       "      <td>False</td>\n",
       "      <td>False</td>\n",
       "    </tr>\n",
       "    <tr>\n",
       "      <th>3</th>\n",
       "      <td>False</td>\n",
       "      <td>False</td>\n",
       "      <td>False</td>\n",
       "      <td>False</td>\n",
       "      <td>False</td>\n",
       "      <td>False</td>\n",
       "      <td>True</td>\n",
       "      <td>True</td>\n",
       "      <td>False</td>\n",
       "      <td>False</td>\n",
       "      <td>...</td>\n",
       "      <td>False</td>\n",
       "      <td>False</td>\n",
       "      <td>False</td>\n",
       "      <td>False</td>\n",
       "      <td>False</td>\n",
       "      <td>False</td>\n",
       "      <td>False</td>\n",
       "      <td>False</td>\n",
       "      <td>False</td>\n",
       "      <td>False</td>\n",
       "    </tr>\n",
       "    <tr>\n",
       "      <th>4</th>\n",
       "      <td>False</td>\n",
       "      <td>False</td>\n",
       "      <td>False</td>\n",
       "      <td>False</td>\n",
       "      <td>False</td>\n",
       "      <td>False</td>\n",
       "      <td>True</td>\n",
       "      <td>True</td>\n",
       "      <td>False</td>\n",
       "      <td>False</td>\n",
       "      <td>...</td>\n",
       "      <td>False</td>\n",
       "      <td>False</td>\n",
       "      <td>False</td>\n",
       "      <td>False</td>\n",
       "      <td>False</td>\n",
       "      <td>False</td>\n",
       "      <td>False</td>\n",
       "      <td>False</td>\n",
       "      <td>False</td>\n",
       "      <td>False</td>\n",
       "    </tr>\n",
       "  </tbody>\n",
       "</table>\n",
       "<p>5 rows × 37 columns</p>\n",
       "</div>"
      ],
      "text/plain": [
       "   Source  Severity  Start_Time  End_Time  Start_Lat  Start_Lng  End_Lat  \\\n",
       "0   False     False       False     False      False      False     True   \n",
       "1   False     False       False     False      False      False     True   \n",
       "2   False     False       False     False      False      False     True   \n",
       "3   False     False       False     False      False      False     True   \n",
       "4   False     False       False     False      False      False     True   \n",
       "\n",
       "   End_Lng  Distance(mi)  County  ...  Railway  Roundabout  Station   Stop  \\\n",
       "0     True         False   False  ...    False       False    False  False   \n",
       "1     True         False   False  ...    False       False    False  False   \n",
       "2     True         False   False  ...    False       False    False  False   \n",
       "3     True         False   False  ...    False       False    False  False   \n",
       "4     True         False   False  ...    False       False    False  False   \n",
       "\n",
       "   Traffic_Calming  Traffic_Signal  Sunrise_Sunset  Civil_Twilight  \\\n",
       "0            False           False           False           False   \n",
       "1            False           False           False           False   \n",
       "2            False           False           False           False   \n",
       "3            False           False           False           False   \n",
       "4            False           False           False           False   \n",
       "\n",
       "   Nautical_Twilight  Astronomical_Twilight  \n",
       "0              False                  False  \n",
       "1              False                  False  \n",
       "2              False                  False  \n",
       "3              False                  False  \n",
       "4              False                  False  \n",
       "\n",
       "[5 rows x 37 columns]"
      ]
     },
     "execution_count": 5,
     "metadata": {},
     "output_type": "execute_result"
    }
   ],
   "source": [
    "missing_data = df.isnull()\n",
    "missing_data.head(5)"
   ]
  },
  {
   "cell_type": "code",
   "execution_count": 6,
   "metadata": {},
   "outputs": [
    {
     "name": "stdout",
     "output_type": "stream",
     "text": [
      "Source\n",
      "False    3513617\n",
      "Name: Source, dtype: int64\n",
      "\n",
      "Severity\n",
      "False    3513617\n",
      "Name: Severity, dtype: int64\n",
      "\n",
      "Start_Time\n",
      "False    3513617\n",
      "Name: Start_Time, dtype: int64\n",
      "\n",
      "End_Time\n",
      "False    3513617\n",
      "Name: End_Time, dtype: int64\n",
      "\n",
      "Start_Lat\n",
      "False    3513617\n",
      "Name: Start_Lat, dtype: int64\n",
      "\n",
      "Start_Lng\n",
      "False    3513617\n",
      "Name: Start_Lng, dtype: int64\n",
      "\n",
      "End_Lat\n",
      "True     2478818\n",
      "False    1034799\n",
      "Name: End_Lat, dtype: int64\n",
      "\n",
      "End_Lng\n",
      "True     2478818\n",
      "False    1034799\n",
      "Name: End_Lng, dtype: int64\n",
      "\n",
      "Distance(mi)\n",
      "False    3513617\n",
      "Name: Distance(mi), dtype: int64\n",
      "\n",
      "County\n",
      "False    3513617\n",
      "Name: County, dtype: int64\n",
      "\n",
      "State\n",
      "False    3513617\n",
      "Name: State, dtype: int64\n",
      "\n",
      "Zipcode\n",
      "False    3512548\n",
      "True        1069\n",
      "Name: Zipcode, dtype: int64\n",
      "\n",
      "Temperature(F)\n",
      "False    3447885\n",
      "True       65732\n",
      "Name: Temperature(F), dtype: int64\n",
      "\n",
      "Wind_Chill(F)\n",
      "True     1868249\n",
      "False    1645368\n",
      "Name: Wind_Chill(F), dtype: int64\n",
      "\n",
      "Humidity(%)\n",
      "False    3443930\n",
      "True       69687\n",
      "Name: Humidity(%), dtype: int64\n",
      "\n",
      "Pressure(in)\n",
      "False    3457735\n",
      "True       55882\n",
      "Name: Pressure(in), dtype: int64\n",
      "\n",
      "Visibility(mi)\n",
      "False    3437761\n",
      "True       75856\n",
      "Name: Visibility(mi), dtype: int64\n",
      "\n",
      "Wind_Direction\n",
      "False    3454743\n",
      "True       58874\n",
      "Name: Wind_Direction, dtype: int64\n",
      "\n",
      "Wind_Speed(mph)\n",
      "False    3059008\n",
      "True      454609\n",
      "Name: Wind_Speed(mph), dtype: int64\n",
      "\n",
      "Precipitation(in)\n",
      "True     2025874\n",
      "False    1487743\n",
      "Name: Precipitation(in), dtype: int64\n",
      "\n",
      "Weather_Condition\n",
      "False    3437479\n",
      "True       76138\n",
      "Name: Weather_Condition, dtype: int64\n",
      "\n",
      "Amenity\n",
      "False    3513617\n",
      "Name: Amenity, dtype: int64\n",
      "\n",
      "Bump\n",
      "False    3513617\n",
      "Name: Bump, dtype: int64\n",
      "\n",
      "Crossing\n",
      "False    3513617\n",
      "Name: Crossing, dtype: int64\n",
      "\n",
      "Give_Way\n",
      "False    3513617\n",
      "Name: Give_Way, dtype: int64\n",
      "\n",
      "Junction\n",
      "False    3513617\n",
      "Name: Junction, dtype: int64\n",
      "\n",
      "No_Exit\n",
      "False    3513617\n",
      "Name: No_Exit, dtype: int64\n",
      "\n",
      "Railway\n",
      "False    3513617\n",
      "Name: Railway, dtype: int64\n",
      "\n",
      "Roundabout\n",
      "False    3513617\n",
      "Name: Roundabout, dtype: int64\n",
      "\n",
      "Station\n",
      "False    3513617\n",
      "Name: Station, dtype: int64\n",
      "\n",
      "Stop\n",
      "False    3513617\n",
      "Name: Stop, dtype: int64\n",
      "\n",
      "Traffic_Calming\n",
      "False    3513617\n",
      "Name: Traffic_Calming, dtype: int64\n",
      "\n",
      "Traffic_Signal\n",
      "False    3513617\n",
      "Name: Traffic_Signal, dtype: int64\n",
      "\n",
      "Sunrise_Sunset\n",
      "False    3513502\n",
      "True         115\n",
      "Name: Sunrise_Sunset, dtype: int64\n",
      "\n",
      "Civil_Twilight\n",
      "False    3513502\n",
      "True         115\n",
      "Name: Civil_Twilight, dtype: int64\n",
      "\n",
      "Nautical_Twilight\n",
      "False    3513502\n",
      "True         115\n",
      "Name: Nautical_Twilight, dtype: int64\n",
      "\n",
      "Astronomical_Twilight\n",
      "False    3513502\n",
      "True         115\n",
      "Name: Astronomical_Twilight, dtype: int64\n",
      "\n"
     ]
    }
   ],
   "source": [
    "for column in missing_data.columns.values.tolist():\n",
    "    print(column)\n",
    "    print (missing_data[column].value_counts())\n",
    "    print(\"\")   "
   ]
  },
  {
   "cell_type": "code",
   "execution_count": 7,
   "metadata": {},
   "outputs": [],
   "source": [
    "#  drop whole row with NaN in column\n",
    "df.dropna(subset=[\"Temperature(F)\", \"Wind_Speed(mph)\", \"Visibility(mi)\", \"Humidity(%)\", \"Sunrise_Sunset\", \"Civil_Twilight\", \"Nautical_Twilight\", \"Astronomical_Twilight\" ], axis=0, inplace=True)\n",
    "\n",
    "# reset index, because we droped two rows\n",
    "df.reset_index(drop=True, inplace=True)"
   ]
  },
  {
   "cell_type": "code",
   "execution_count": 8,
   "metadata": {},
   "outputs": [],
   "source": [
    "df.drop(['Wind_Direction', 'Pressure(in)', 'Wind_Chill(F)'], axis=1, inplace=True)"
   ]
  },
  {
   "cell_type": "code",
   "execution_count": 9,
   "metadata": {},
   "outputs": [
    {
     "name": "stdout",
     "output_type": "stream",
     "text": [
      "<class 'pandas.core.frame.DataFrame'>\n",
      "RangeIndex: 3036405 entries, 0 to 3036404\n",
      "Data columns (total 34 columns):\n",
      " #   Column                 Dtype  \n",
      "---  ------                 -----  \n",
      " 0   Source                 object \n",
      " 1   Severity               int64  \n",
      " 2   Start_Time             object \n",
      " 3   End_Time               object \n",
      " 4   Start_Lat              float64\n",
      " 5   Start_Lng              float64\n",
      " 6   End_Lat                float64\n",
      " 7   End_Lng                float64\n",
      " 8   Distance(mi)           float64\n",
      " 9   County                 object \n",
      " 10  State                  object \n",
      " 11  Zipcode                object \n",
      " 12  Temperature(F)         float64\n",
      " 13  Humidity(%)            float64\n",
      " 14  Visibility(mi)         float64\n",
      " 15  Wind_Speed(mph)        float64\n",
      " 16  Precipitation(in)      float64\n",
      " 17  Weather_Condition      object \n",
      " 18  Amenity                bool   \n",
      " 19  Bump                   bool   \n",
      " 20  Crossing               bool   \n",
      " 21  Give_Way               bool   \n",
      " 22  Junction               bool   \n",
      " 23  No_Exit                bool   \n",
      " 24  Railway                bool   \n",
      " 25  Roundabout             bool   \n",
      " 26  Station                bool   \n",
      " 27  Stop                   bool   \n",
      " 28  Traffic_Calming        bool   \n",
      " 29  Traffic_Signal         bool   \n",
      " 30  Sunrise_Sunset         object \n",
      " 31  Civil_Twilight         object \n",
      " 32  Nautical_Twilight      object \n",
      " 33  Astronomical_Twilight  object \n",
      "dtypes: bool(12), float64(10), int64(1), object(11)\n",
      "memory usage: 544.4+ MB\n"
     ]
    }
   ],
   "source": [
    "df.info()"
   ]
  },
  {
   "cell_type": "markdown",
   "metadata": {},
   "source": [
    "<p>Since traffic laws, among other factors not included in the dataset, differ by state, my analysis will focus on just one: Texas, for which there is ample data. "
   ]
  },
  {
   "cell_type": "code",
   "execution_count": 10,
   "metadata": {},
   "outputs": [],
   "source": [
    "df['State'] = df['State'].astype(\"str\")"
   ]
  },
  {
   "cell_type": "code",
   "execution_count": 11,
   "metadata": {},
   "outputs": [],
   "source": [
    "df = df[(df.State==\"TX\")]"
   ]
  },
  {
   "cell_type": "code",
   "execution_count": 12,
   "metadata": {},
   "outputs": [
    {
     "data": {
      "text/plain": [
       "(290975, 34)"
      ]
     },
     "execution_count": 12,
     "metadata": {},
     "output_type": "execute_result"
    }
   ],
   "source": [
    "df.shape"
   ]
  },
  {
   "cell_type": "code",
   "execution_count": 13,
   "metadata": {},
   "outputs": [
    {
     "data": {
      "text/html": [
       "<div>\n",
       "<style scoped>\n",
       "    .dataframe tbody tr th:only-of-type {\n",
       "        vertical-align: middle;\n",
       "    }\n",
       "\n",
       "    .dataframe tbody tr th {\n",
       "        vertical-align: top;\n",
       "    }\n",
       "\n",
       "    .dataframe thead th {\n",
       "        text-align: right;\n",
       "    }\n",
       "</style>\n",
       "<table border=\"1\" class=\"dataframe\">\n",
       "  <thead>\n",
       "    <tr style=\"text-align: right;\">\n",
       "      <th></th>\n",
       "      <th>Severity</th>\n",
       "    </tr>\n",
       "  </thead>\n",
       "  <tbody>\n",
       "    <tr>\n",
       "      <th>2</th>\n",
       "      <td>206326</td>\n",
       "    </tr>\n",
       "    <tr>\n",
       "      <th>3</th>\n",
       "      <td>79361</td>\n",
       "    </tr>\n",
       "    <tr>\n",
       "      <th>4</th>\n",
       "      <td>4229</td>\n",
       "    </tr>\n",
       "    <tr>\n",
       "      <th>1</th>\n",
       "      <td>1059</td>\n",
       "    </tr>\n",
       "  </tbody>\n",
       "</table>\n",
       "</div>"
      ],
      "text/plain": [
       "   Severity\n",
       "2    206326\n",
       "3     79361\n",
       "4      4229\n",
       "1      1059"
      ]
     },
     "execution_count": 13,
     "metadata": {},
     "output_type": "execute_result"
    }
   ],
   "source": [
    "df['Severity'].value_counts().to_frame()"
   ]
  },
  {
   "cell_type": "code",
   "execution_count": 14,
   "metadata": {},
   "outputs": [
    {
     "data": {
      "text/html": [
       "<div>\n",
       "<style scoped>\n",
       "    .dataframe tbody tr th:only-of-type {\n",
       "        vertical-align: middle;\n",
       "    }\n",
       "\n",
       "    .dataframe tbody tr th {\n",
       "        vertical-align: top;\n",
       "    }\n",
       "\n",
       "    .dataframe thead th {\n",
       "        text-align: right;\n",
       "    }\n",
       "</style>\n",
       "<table border=\"1\" class=\"dataframe\">\n",
       "  <thead>\n",
       "    <tr style=\"text-align: right;\">\n",
       "      <th>Source</th>\n",
       "      <th>Bing</th>\n",
       "      <th>MapQuest</th>\n",
       "      <th>MapQuest-Bing</th>\n",
       "      <th>All</th>\n",
       "    </tr>\n",
       "    <tr>\n",
       "      <th>Severity</th>\n",
       "      <th></th>\n",
       "      <th></th>\n",
       "      <th></th>\n",
       "      <th></th>\n",
       "    </tr>\n",
       "  </thead>\n",
       "  <tbody>\n",
       "    <tr>\n",
       "      <th>1</th>\n",
       "      <td>935</td>\n",
       "      <td>124</td>\n",
       "      <td>0</td>\n",
       "      <td>1059</td>\n",
       "    </tr>\n",
       "    <tr>\n",
       "      <th>2</th>\n",
       "      <td>19846</td>\n",
       "      <td>185878</td>\n",
       "      <td>602</td>\n",
       "      <td>206326</td>\n",
       "    </tr>\n",
       "    <tr>\n",
       "      <th>3</th>\n",
       "      <td>17610</td>\n",
       "      <td>60911</td>\n",
       "      <td>840</td>\n",
       "      <td>79361</td>\n",
       "    </tr>\n",
       "    <tr>\n",
       "      <th>4</th>\n",
       "      <td>3710</td>\n",
       "      <td>516</td>\n",
       "      <td>3</td>\n",
       "      <td>4229</td>\n",
       "    </tr>\n",
       "    <tr>\n",
       "      <th>All</th>\n",
       "      <td>42101</td>\n",
       "      <td>247429</td>\n",
       "      <td>1445</td>\n",
       "      <td>290975</td>\n",
       "    </tr>\n",
       "  </tbody>\n",
       "</table>\n",
       "</div>"
      ],
      "text/plain": [
       "Source     Bing  MapQuest  MapQuest-Bing     All\n",
       "Severity                                        \n",
       "1           935       124              0    1059\n",
       "2         19846    185878            602  206326\n",
       "3         17610     60911            840   79361\n",
       "4          3710       516              3    4229\n",
       "All       42101    247429           1445  290975"
      ]
     },
     "execution_count": 14,
     "metadata": {},
     "output_type": "execute_result"
    }
   ],
   "source": [
    "pd.crosstab(df.Severity,df.Source,margins=True)"
   ]
  },
  {
   "cell_type": "markdown",
   "metadata": {},
   "source": [
    "<p>As illustrated in the table above, there's a striking difference in distribution of Severity levels between Bing and Mapquest. For that reason, I'll focus on the Bing data.</p>"
   ]
  },
  {
   "cell_type": "code",
   "execution_count": 15,
   "metadata": {},
   "outputs": [],
   "source": [
    "df['Source'] = df['Source'].astype(\"str\")"
   ]
  },
  {
   "cell_type": "code",
   "execution_count": 16,
   "metadata": {},
   "outputs": [],
   "source": [
    "df = df[(df.Source==\"Bing\")]"
   ]
  },
  {
   "cell_type": "code",
   "execution_count": 17,
   "metadata": {},
   "outputs": [
    {
     "data": {
      "text/plain": [
       "(42101, 34)"
      ]
     },
     "execution_count": 17,
     "metadata": {},
     "output_type": "execute_result"
    }
   ],
   "source": [
    "df.shape"
   ]
  },
  {
   "cell_type": "markdown",
   "metadata": {},
   "source": [
    "<p>So after the main cleaning of the data, I'm left with 42,101 rows.</p>"
   ]
  },
  {
   "cell_type": "markdown",
   "metadata": {},
   "source": [
    "<h2>Exploring the data</h2>"
   ]
  },
  {
   "cell_type": "markdown",
   "metadata": {},
   "source": [
    "<h4>Length of Delay</h4>"
   ]
  },
  {
   "cell_type": "markdown",
   "metadata": {},
   "source": [
    "<p>In order to better understand the outcome variable, Severity, which is supposed to be positively correlated with the length of the delay caused by the traffic accident, let's see if we can calculate the actual delay of each accident using the Start_Time and End_Time variables.</p>"
   ]
  },
  {
   "cell_type": "code",
   "execution_count": 18,
   "metadata": {},
   "outputs": [],
   "source": [
    "df['start'] = pd.to_datetime(df['Start_Time'])"
   ]
  },
  {
   "cell_type": "code",
   "execution_count": 19,
   "metadata": {},
   "outputs": [
    {
     "data": {
      "text/html": [
       "<div>\n",
       "<style scoped>\n",
       "    .dataframe tbody tr th:only-of-type {\n",
       "        vertical-align: middle;\n",
       "    }\n",
       "\n",
       "    .dataframe tbody tr th {\n",
       "        vertical-align: top;\n",
       "    }\n",
       "\n",
       "    .dataframe thead th {\n",
       "        text-align: right;\n",
       "    }\n",
       "</style>\n",
       "<table border=\"1\" class=\"dataframe\">\n",
       "  <thead>\n",
       "    <tr style=\"text-align: right;\">\n",
       "      <th></th>\n",
       "      <th>start</th>\n",
       "      <th>end</th>\n",
       "    </tr>\n",
       "  </thead>\n",
       "  <tbody>\n",
       "    <tr>\n",
       "      <th>2129313</th>\n",
       "      <td>2016-11-30 15:29:48</td>\n",
       "      <td>2016-11-30 21:29:48</td>\n",
       "    </tr>\n",
       "    <tr>\n",
       "      <th>2129314</th>\n",
       "      <td>2016-11-30 15:41:16</td>\n",
       "      <td>2016-11-30 21:41:16</td>\n",
       "    </tr>\n",
       "    <tr>\n",
       "      <th>2129315</th>\n",
       "      <td>2016-11-30 15:15:48</td>\n",
       "      <td>2016-11-30 21:15:48</td>\n",
       "    </tr>\n",
       "    <tr>\n",
       "      <th>2129319</th>\n",
       "      <td>2016-11-30 16:16:05</td>\n",
       "      <td>2016-11-30 22:16:05</td>\n",
       "    </tr>\n",
       "    <tr>\n",
       "      <th>2129320</th>\n",
       "      <td>2016-11-30 16:16:05</td>\n",
       "      <td>2016-11-30 22:16:05</td>\n",
       "    </tr>\n",
       "  </tbody>\n",
       "</table>\n",
       "</div>"
      ],
      "text/plain": [
       "                      start                 end\n",
       "2129313 2016-11-30 15:29:48 2016-11-30 21:29:48\n",
       "2129314 2016-11-30 15:41:16 2016-11-30 21:41:16\n",
       "2129315 2016-11-30 15:15:48 2016-11-30 21:15:48\n",
       "2129319 2016-11-30 16:16:05 2016-11-30 22:16:05\n",
       "2129320 2016-11-30 16:16:05 2016-11-30 22:16:05"
      ]
     },
     "execution_count": 19,
     "metadata": {},
     "output_type": "execute_result"
    }
   ],
   "source": [
    "df['end'] = pd.to_datetime(df['End_Time'])\n",
    "df[['start', 'end']].head()"
   ]
  },
  {
   "cell_type": "code",
   "execution_count": 20,
   "metadata": {},
   "outputs": [
    {
     "data": {
      "text/html": [
       "<div>\n",
       "<style scoped>\n",
       "    .dataframe tbody tr th:only-of-type {\n",
       "        vertical-align: middle;\n",
       "    }\n",
       "\n",
       "    .dataframe tbody tr th {\n",
       "        vertical-align: top;\n",
       "    }\n",
       "\n",
       "    .dataframe thead th {\n",
       "        text-align: right;\n",
       "    }\n",
       "</style>\n",
       "<table border=\"1\" class=\"dataframe\">\n",
       "  <thead>\n",
       "    <tr style=\"text-align: right;\">\n",
       "      <th></th>\n",
       "      <th>start</th>\n",
       "      <th>end</th>\n",
       "      <th>delay</th>\n",
       "    </tr>\n",
       "  </thead>\n",
       "  <tbody>\n",
       "    <tr>\n",
       "      <th>2129313</th>\n",
       "      <td>2016-11-30 15:29:48</td>\n",
       "      <td>2016-11-30 21:29:48</td>\n",
       "      <td>06:00:00</td>\n",
       "    </tr>\n",
       "    <tr>\n",
       "      <th>2129314</th>\n",
       "      <td>2016-11-30 15:41:16</td>\n",
       "      <td>2016-11-30 21:41:16</td>\n",
       "      <td>06:00:00</td>\n",
       "    </tr>\n",
       "    <tr>\n",
       "      <th>2129315</th>\n",
       "      <td>2016-11-30 15:15:48</td>\n",
       "      <td>2016-11-30 21:15:48</td>\n",
       "      <td>06:00:00</td>\n",
       "    </tr>\n",
       "    <tr>\n",
       "      <th>2129319</th>\n",
       "      <td>2016-11-30 16:16:05</td>\n",
       "      <td>2016-11-30 22:16:05</td>\n",
       "      <td>06:00:00</td>\n",
       "    </tr>\n",
       "    <tr>\n",
       "      <th>2129320</th>\n",
       "      <td>2016-11-30 16:16:05</td>\n",
       "      <td>2016-11-30 22:16:05</td>\n",
       "      <td>06:00:00</td>\n",
       "    </tr>\n",
       "  </tbody>\n",
       "</table>\n",
       "</div>"
      ],
      "text/plain": [
       "                      start                 end    delay\n",
       "2129313 2016-11-30 15:29:48 2016-11-30 21:29:48 06:00:00\n",
       "2129314 2016-11-30 15:41:16 2016-11-30 21:41:16 06:00:00\n",
       "2129315 2016-11-30 15:15:48 2016-11-30 21:15:48 06:00:00\n",
       "2129319 2016-11-30 16:16:05 2016-11-30 22:16:05 06:00:00\n",
       "2129320 2016-11-30 16:16:05 2016-11-30 22:16:05 06:00:00"
      ]
     },
     "execution_count": 20,
     "metadata": {},
     "output_type": "execute_result"
    }
   ],
   "source": [
    "df['delay'] = df['end'] - df['start']\n",
    "df[['start', 'end', 'delay']].head()"
   ]
  },
  {
   "cell_type": "code",
   "execution_count": 21,
   "metadata": {},
   "outputs": [
    {
     "data": {
      "text/plain": [
       "count                     42101\n",
       "mean     0 days 03:45:55.224935\n",
       "std      0 days 06:00:38.295668\n",
       "min             0 days 00:06:36\n",
       "25%             0 days 00:29:43\n",
       "50%             0 days 06:00:00\n",
       "75%             0 days 06:00:00\n",
       "max            32 days 04:14:47\n",
       "Name: delay, dtype: object"
      ]
     },
     "execution_count": 21,
     "metadata": {},
     "output_type": "execute_result"
    }
   ],
   "source": [
    "df['delay'].describe()"
   ]
  },
  {
   "cell_type": "markdown",
   "metadata": {},
   "source": [
    "<p>Based on the above description of the new delay variable, the average accident (in Texas) causes a delay of about three hours and 45 minutes, with a maximum delay of over 32 days, and a minimum of just six and a half minutes.</p><br>\n",
    "<p>Next, I convert the timedelta object into an interger so it can be included in the feature set and modelled with the rest of the data. The unit of measure, as indicated by the new variable, is in minutes.</p>"
   ]
  },
  {
   "cell_type": "code",
   "execution_count": 22,
   "metadata": {},
   "outputs": [
    {
     "data": {
      "text/plain": [
       "count    42101.000000\n",
       "mean       225.920416\n",
       "std        360.638261\n",
       "min          6.600000\n",
       "25%         29.716667\n",
       "50%        360.000000\n",
       "75%        360.000000\n",
       "max      46334.783333\n",
       "Name: delay_minutes, dtype: float64"
      ]
     },
     "execution_count": 22,
     "metadata": {},
     "output_type": "execute_result"
    }
   ],
   "source": [
    "df['delay_minutes'] = df['delay'].astype(int)/1000000000/60\n",
    "df['delay_minutes'].describe()"
   ]
  },
  {
   "cell_type": "code",
   "execution_count": 23,
   "metadata": {},
   "outputs": [
    {
     "data": {
      "text/html": [
       "<div>\n",
       "<style scoped>\n",
       "    .dataframe tbody tr th:only-of-type {\n",
       "        vertical-align: middle;\n",
       "    }\n",
       "\n",
       "    .dataframe tbody tr th {\n",
       "        vertical-align: top;\n",
       "    }\n",
       "\n",
       "    .dataframe thead th {\n",
       "        text-align: right;\n",
       "    }\n",
       "</style>\n",
       "<table border=\"1\" class=\"dataframe\">\n",
       "  <thead>\n",
       "    <tr style=\"text-align: right;\">\n",
       "      <th></th>\n",
       "      <th>Severity</th>\n",
       "      <th>delay_minutes</th>\n",
       "    </tr>\n",
       "  </thead>\n",
       "  <tbody>\n",
       "    <tr>\n",
       "      <th>0</th>\n",
       "      <td>1</td>\n",
       "      <td>49.694777</td>\n",
       "    </tr>\n",
       "    <tr>\n",
       "      <th>1</th>\n",
       "      <td>2</td>\n",
       "      <td>260.646633</td>\n",
       "    </tr>\n",
       "    <tr>\n",
       "      <th>2</th>\n",
       "      <td>3</td>\n",
       "      <td>200.026573</td>\n",
       "    </tr>\n",
       "    <tr>\n",
       "      <th>3</th>\n",
       "      <td>4</td>\n",
       "      <td>207.479721</td>\n",
       "    </tr>\n",
       "  </tbody>\n",
       "</table>\n",
       "</div>"
      ],
      "text/plain": [
       "   Severity  delay_minutes\n",
       "0         1      49.694777\n",
       "1         2     260.646633\n",
       "2         3     200.026573\n",
       "3         4     207.479721"
      ]
     },
     "execution_count": 23,
     "metadata": {},
     "output_type": "execute_result"
    }
   ],
   "source": [
    "df_del_sev_group = df[['delay_minutes', 'Severity']]\n",
    "df_del_sev_group = df_del_sev_group.groupby(['Severity'],as_index=False).mean()\n",
    "df_del_sev_group"
   ]
  },
  {
   "cell_type": "markdown",
   "metadata": {},
   "source": [
    "<p>Calculating the mean delay in minutes by Severity, we see that there may not be not a linear relationship between delay and Severity. Accidents with a Severity level of 2 have the longest delay of approximately 260 minutes, while the most severe (4) has an average of 207 mintutes. Therefore, I will remove any notable outliers (i.e. the 32-day delay) by creating a max threshold for the delay data.</p>"
   ]
  },
  {
   "cell_type": "code",
   "execution_count": 24,
   "metadata": {},
   "outputs": [
    {
     "data": {
      "text/plain": [
       "46334.78333333333"
      ]
     },
     "execution_count": 24,
     "metadata": {},
     "output_type": "execute_result"
    }
   ],
   "source": [
    "df['delay_minutes'].max()"
   ]
  },
  {
   "cell_type": "code",
   "execution_count": 25,
   "metadata": {},
   "outputs": [
    {
     "data": {
      "text/plain": [
       "4162.243999994471"
      ]
     },
     "execution_count": 25,
     "metadata": {},
     "output_type": "execute_result"
    }
   ],
   "source": [
    "max_threshold = df['delay_minutes'].quantile(0.9999)\n",
    "max_threshold"
   ]
  },
  {
   "cell_type": "code",
   "execution_count": 26,
   "metadata": {},
   "outputs": [
    {
     "data": {
      "text/html": [
       "<div>\n",
       "<style scoped>\n",
       "    .dataframe tbody tr th:only-of-type {\n",
       "        vertical-align: middle;\n",
       "    }\n",
       "\n",
       "    .dataframe tbody tr th {\n",
       "        vertical-align: top;\n",
       "    }\n",
       "\n",
       "    .dataframe thead th {\n",
       "        text-align: right;\n",
       "    }\n",
       "</style>\n",
       "<table border=\"1\" class=\"dataframe\">\n",
       "  <thead>\n",
       "    <tr style=\"text-align: right;\">\n",
       "      <th></th>\n",
       "      <th>Severity</th>\n",
       "      <th>Start_Lat</th>\n",
       "      <th>Start_Lng</th>\n",
       "      <th>End_Lat</th>\n",
       "      <th>End_Lng</th>\n",
       "      <th>Distance(mi)</th>\n",
       "      <th>Temperature(F)</th>\n",
       "      <th>Humidity(%)</th>\n",
       "      <th>Visibility(mi)</th>\n",
       "      <th>Wind_Speed(mph)</th>\n",
       "      <th>Precipitation(in)</th>\n",
       "      <th>delay</th>\n",
       "      <th>delay_minutes</th>\n",
       "    </tr>\n",
       "  </thead>\n",
       "  <tbody>\n",
       "    <tr>\n",
       "      <th>count</th>\n",
       "      <td>5.000000</td>\n",
       "      <td>5.000000</td>\n",
       "      <td>5.000000</td>\n",
       "      <td>5.000000</td>\n",
       "      <td>5.000000</td>\n",
       "      <td>5.000000</td>\n",
       "      <td>5.000000</td>\n",
       "      <td>5.000000</td>\n",
       "      <td>5.00000</td>\n",
       "      <td>5.000000</td>\n",
       "      <td>2.000000</td>\n",
       "      <td>5</td>\n",
       "      <td>5.000000</td>\n",
       "    </tr>\n",
       "    <tr>\n",
       "      <th>mean</th>\n",
       "      <td>3.800000</td>\n",
       "      <td>31.413456</td>\n",
       "      <td>-96.937576</td>\n",
       "      <td>31.411182</td>\n",
       "      <td>-96.953432</td>\n",
       "      <td>0.961400</td>\n",
       "      <td>70.960000</td>\n",
       "      <td>73.400000</td>\n",
       "      <td>8.40000</td>\n",
       "      <td>11.220000</td>\n",
       "      <td>0.005000</td>\n",
       "      <td>15 days 01:34:16.400000</td>\n",
       "      <td>21694.273333</td>\n",
       "    </tr>\n",
       "    <tr>\n",
       "      <th>std</th>\n",
       "      <td>0.447214</td>\n",
       "      <td>2.502914</td>\n",
       "      <td>2.924148</td>\n",
       "      <td>2.504501</td>\n",
       "      <td>2.921614</td>\n",
       "      <td>0.496206</td>\n",
       "      <td>18.783051</td>\n",
       "      <td>23.712866</td>\n",
       "      <td>1.67332</td>\n",
       "      <td>5.683485</td>\n",
       "      <td>0.007071</td>\n",
       "      <td>15 days 15:00:20.082638</td>\n",
       "      <td>22500.334711</td>\n",
       "    </tr>\n",
       "    <tr>\n",
       "      <th>min</th>\n",
       "      <td>3.000000</td>\n",
       "      <td>29.680890</td>\n",
       "      <td>-102.057710</td>\n",
       "      <td>29.678910</td>\n",
       "      <td>-102.069680</td>\n",
       "      <td>0.676000</td>\n",
       "      <td>45.000000</td>\n",
       "      <td>36.000000</td>\n",
       "      <td>6.00000</td>\n",
       "      <td>5.800000</td>\n",
       "      <td>0.000000</td>\n",
       "      <td>3 days 00:23:36</td>\n",
       "      <td>4343.600000</td>\n",
       "    </tr>\n",
       "    <tr>\n",
       "      <th>25%</th>\n",
       "      <td>4.000000</td>\n",
       "      <td>29.699690</td>\n",
       "      <td>-96.692200</td>\n",
       "      <td>29.695690</td>\n",
       "      <td>-96.704670</td>\n",
       "      <td>0.733000</td>\n",
       "      <td>57.000000</td>\n",
       "      <td>65.000000</td>\n",
       "      <td>8.00000</td>\n",
       "      <td>5.800000</td>\n",
       "      <td>0.002500</td>\n",
       "      <td>3 days 22:59:42</td>\n",
       "      <td>5699.700000</td>\n",
       "    </tr>\n",
       "    <tr>\n",
       "      <th>50%</th>\n",
       "      <td>4.000000</td>\n",
       "      <td>29.699690</td>\n",
       "      <td>-95.373190</td>\n",
       "      <td>29.695690</td>\n",
       "      <td>-95.403850</td>\n",
       "      <td>0.776000</td>\n",
       "      <td>82.900000</td>\n",
       "      <td>85.000000</td>\n",
       "      <td>8.00000</td>\n",
       "      <td>10.400000</td>\n",
       "      <td>0.005000</td>\n",
       "      <td>3 days 23:59:22</td>\n",
       "      <td>5759.366667</td>\n",
       "    </tr>\n",
       "    <tr>\n",
       "      <th>75%</th>\n",
       "      <td>4.000000</td>\n",
       "      <td>32.795750</td>\n",
       "      <td>-95.282390</td>\n",
       "      <td>32.794080</td>\n",
       "      <td>-95.294480</td>\n",
       "      <td>0.776000</td>\n",
       "      <td>82.900000</td>\n",
       "      <td>85.000000</td>\n",
       "      <td>10.00000</td>\n",
       "      <td>16.100000</td>\n",
       "      <td>0.007500</td>\n",
       "      <td>32 days 04:13:55</td>\n",
       "      <td>46333.916667</td>\n",
       "    </tr>\n",
       "    <tr>\n",
       "      <th>max</th>\n",
       "      <td>4.000000</td>\n",
       "      <td>35.191260</td>\n",
       "      <td>-95.282390</td>\n",
       "      <td>35.191540</td>\n",
       "      <td>-95.294480</td>\n",
       "      <td>1.846000</td>\n",
       "      <td>87.000000</td>\n",
       "      <td>96.000000</td>\n",
       "      <td>10.00000</td>\n",
       "      <td>18.000000</td>\n",
       "      <td>0.010000</td>\n",
       "      <td>32 days 04:14:47</td>\n",
       "      <td>46334.783333</td>\n",
       "    </tr>\n",
       "  </tbody>\n",
       "</table>\n",
       "</div>"
      ],
      "text/plain": [
       "       Severity  Start_Lat   Start_Lng    End_Lat     End_Lng  Distance(mi)  \\\n",
       "count  5.000000   5.000000    5.000000   5.000000    5.000000      5.000000   \n",
       "mean   3.800000  31.413456  -96.937576  31.411182  -96.953432      0.961400   \n",
       "std    0.447214   2.502914    2.924148   2.504501    2.921614      0.496206   \n",
       "min    3.000000  29.680890 -102.057710  29.678910 -102.069680      0.676000   \n",
       "25%    4.000000  29.699690  -96.692200  29.695690  -96.704670      0.733000   \n",
       "50%    4.000000  29.699690  -95.373190  29.695690  -95.403850      0.776000   \n",
       "75%    4.000000  32.795750  -95.282390  32.794080  -95.294480      0.776000   \n",
       "max    4.000000  35.191260  -95.282390  35.191540  -95.294480      1.846000   \n",
       "\n",
       "       Temperature(F)  Humidity(%)  Visibility(mi)  Wind_Speed(mph)  \\\n",
       "count        5.000000     5.000000         5.00000         5.000000   \n",
       "mean        70.960000    73.400000         8.40000        11.220000   \n",
       "std         18.783051    23.712866         1.67332         5.683485   \n",
       "min         45.000000    36.000000         6.00000         5.800000   \n",
       "25%         57.000000    65.000000         8.00000         5.800000   \n",
       "50%         82.900000    85.000000         8.00000        10.400000   \n",
       "75%         82.900000    85.000000        10.00000        16.100000   \n",
       "max         87.000000    96.000000        10.00000        18.000000   \n",
       "\n",
       "       Precipitation(in)                    delay  delay_minutes  \n",
       "count           2.000000                        5       5.000000  \n",
       "mean            0.005000  15 days 01:34:16.400000   21694.273333  \n",
       "std             0.007071  15 days 15:00:20.082638   22500.334711  \n",
       "min             0.000000          3 days 00:23:36    4343.600000  \n",
       "25%             0.002500          3 days 22:59:42    5699.700000  \n",
       "50%             0.005000          3 days 23:59:22    5759.366667  \n",
       "75%             0.007500         32 days 04:13:55   46333.916667  \n",
       "max             0.010000         32 days 04:14:47   46334.783333  "
      ]
     },
     "execution_count": 26,
     "metadata": {},
     "output_type": "execute_result"
    }
   ],
   "source": [
    "df[df['delay_minutes']>max_threshold].describe()"
   ]
  },
  {
   "cell_type": "code",
   "execution_count": 27,
   "metadata": {},
   "outputs": [
    {
     "data": {
      "text/plain": [
       "10.986833333333333"
      ]
     },
     "execution_count": 27,
     "metadata": {},
     "output_type": "execute_result"
    }
   ],
   "source": [
    "min_threshold = df['delay_minutes'].quantile(0.0001)\n",
    "min_threshold"
   ]
  },
  {
   "cell_type": "code",
   "execution_count": 28,
   "metadata": {},
   "outputs": [
    {
     "data": {
      "text/html": [
       "<div>\n",
       "<style scoped>\n",
       "    .dataframe tbody tr th:only-of-type {\n",
       "        vertical-align: middle;\n",
       "    }\n",
       "\n",
       "    .dataframe tbody tr th {\n",
       "        vertical-align: top;\n",
       "    }\n",
       "\n",
       "    .dataframe thead th {\n",
       "        text-align: right;\n",
       "    }\n",
       "</style>\n",
       "<table border=\"1\" class=\"dataframe\">\n",
       "  <thead>\n",
       "    <tr style=\"text-align: right;\">\n",
       "      <th></th>\n",
       "      <th>Source</th>\n",
       "      <th>Severity</th>\n",
       "      <th>Start_Time</th>\n",
       "      <th>End_Time</th>\n",
       "      <th>Start_Lat</th>\n",
       "      <th>Start_Lng</th>\n",
       "      <th>End_Lat</th>\n",
       "      <th>End_Lng</th>\n",
       "      <th>Distance(mi)</th>\n",
       "      <th>County</th>\n",
       "      <th>...</th>\n",
       "      <th>Traffic_Calming</th>\n",
       "      <th>Traffic_Signal</th>\n",
       "      <th>Sunrise_Sunset</th>\n",
       "      <th>Civil_Twilight</th>\n",
       "      <th>Nautical_Twilight</th>\n",
       "      <th>Astronomical_Twilight</th>\n",
       "      <th>start</th>\n",
       "      <th>end</th>\n",
       "      <th>delay</th>\n",
       "      <th>delay_minutes</th>\n",
       "    </tr>\n",
       "  </thead>\n",
       "  <tbody>\n",
       "    <tr>\n",
       "      <th>2129313</th>\n",
       "      <td>Bing</td>\n",
       "      <td>2</td>\n",
       "      <td>2016-11-30 15:29:48</td>\n",
       "      <td>2016-11-30 21:29:48</td>\n",
       "      <td>32.84365</td>\n",
       "      <td>-96.77463</td>\n",
       "      <td>32.81833</td>\n",
       "      <td>-96.78806</td>\n",
       "      <td>1.915</td>\n",
       "      <td>Dallas</td>\n",
       "      <td>...</td>\n",
       "      <td>False</td>\n",
       "      <td>False</td>\n",
       "      <td>Day</td>\n",
       "      <td>Day</td>\n",
       "      <td>Day</td>\n",
       "      <td>Day</td>\n",
       "      <td>2016-11-30 15:29:48</td>\n",
       "      <td>2016-11-30 21:29:48</td>\n",
       "      <td>06:00:00</td>\n",
       "      <td>360.0</td>\n",
       "    </tr>\n",
       "    <tr>\n",
       "      <th>2129314</th>\n",
       "      <td>Bing</td>\n",
       "      <td>2</td>\n",
       "      <td>2016-11-30 15:41:16</td>\n",
       "      <td>2016-11-30 21:41:16</td>\n",
       "      <td>32.84662</td>\n",
       "      <td>-96.63736</td>\n",
       "      <td>32.84640</td>\n",
       "      <td>-96.63711</td>\n",
       "      <td>0.021</td>\n",
       "      <td>Dallas</td>\n",
       "      <td>...</td>\n",
       "      <td>False</td>\n",
       "      <td>False</td>\n",
       "      <td>Day</td>\n",
       "      <td>Day</td>\n",
       "      <td>Day</td>\n",
       "      <td>Day</td>\n",
       "      <td>2016-11-30 15:41:16</td>\n",
       "      <td>2016-11-30 21:41:16</td>\n",
       "      <td>06:00:00</td>\n",
       "      <td>360.0</td>\n",
       "    </tr>\n",
       "    <tr>\n",
       "      <th>2129315</th>\n",
       "      <td>Bing</td>\n",
       "      <td>3</td>\n",
       "      <td>2016-11-30 15:15:48</td>\n",
       "      <td>2016-11-30 21:15:48</td>\n",
       "      <td>32.86693</td>\n",
       "      <td>-96.66617</td>\n",
       "      <td>32.86156</td>\n",
       "      <td>-96.65769</td>\n",
       "      <td>0.616</td>\n",
       "      <td>Dallas</td>\n",
       "      <td>...</td>\n",
       "      <td>False</td>\n",
       "      <td>False</td>\n",
       "      <td>Day</td>\n",
       "      <td>Day</td>\n",
       "      <td>Day</td>\n",
       "      <td>Day</td>\n",
       "      <td>2016-11-30 15:15:48</td>\n",
       "      <td>2016-11-30 21:15:48</td>\n",
       "      <td>06:00:00</td>\n",
       "      <td>360.0</td>\n",
       "    </tr>\n",
       "    <tr>\n",
       "      <th>2129319</th>\n",
       "      <td>Bing</td>\n",
       "      <td>3</td>\n",
       "      <td>2016-11-30 16:16:05</td>\n",
       "      <td>2016-11-30 22:16:05</td>\n",
       "      <td>32.79385</td>\n",
       "      <td>-96.70278</td>\n",
       "      <td>32.79498</td>\n",
       "      <td>-96.69424</td>\n",
       "      <td>0.502</td>\n",
       "      <td>Dallas</td>\n",
       "      <td>...</td>\n",
       "      <td>False</td>\n",
       "      <td>False</td>\n",
       "      <td>Day</td>\n",
       "      <td>Day</td>\n",
       "      <td>Day</td>\n",
       "      <td>Day</td>\n",
       "      <td>2016-11-30 16:16:05</td>\n",
       "      <td>2016-11-30 22:16:05</td>\n",
       "      <td>06:00:00</td>\n",
       "      <td>360.0</td>\n",
       "    </tr>\n",
       "    <tr>\n",
       "      <th>2129320</th>\n",
       "      <td>Bing</td>\n",
       "      <td>3</td>\n",
       "      <td>2016-11-30 16:16:05</td>\n",
       "      <td>2016-11-30 22:16:05</td>\n",
       "      <td>32.85710</td>\n",
       "      <td>-96.77046</td>\n",
       "      <td>32.84623</td>\n",
       "      <td>-96.77330</td>\n",
       "      <td>0.769</td>\n",
       "      <td>Dallas</td>\n",
       "      <td>...</td>\n",
       "      <td>False</td>\n",
       "      <td>True</td>\n",
       "      <td>Day</td>\n",
       "      <td>Day</td>\n",
       "      <td>Day</td>\n",
       "      <td>Day</td>\n",
       "      <td>2016-11-30 16:16:05</td>\n",
       "      <td>2016-11-30 22:16:05</td>\n",
       "      <td>06:00:00</td>\n",
       "      <td>360.0</td>\n",
       "    </tr>\n",
       "  </tbody>\n",
       "</table>\n",
       "<p>5 rows × 38 columns</p>\n",
       "</div>"
      ],
      "text/plain": [
       "        Source  Severity           Start_Time             End_Time  Start_Lat  \\\n",
       "2129313   Bing         2  2016-11-30 15:29:48  2016-11-30 21:29:48   32.84365   \n",
       "2129314   Bing         2  2016-11-30 15:41:16  2016-11-30 21:41:16   32.84662   \n",
       "2129315   Bing         3  2016-11-30 15:15:48  2016-11-30 21:15:48   32.86693   \n",
       "2129319   Bing         3  2016-11-30 16:16:05  2016-11-30 22:16:05   32.79385   \n",
       "2129320   Bing         3  2016-11-30 16:16:05  2016-11-30 22:16:05   32.85710   \n",
       "\n",
       "         Start_Lng   End_Lat   End_Lng  Distance(mi)  County  ...  \\\n",
       "2129313  -96.77463  32.81833 -96.78806         1.915  Dallas  ...   \n",
       "2129314  -96.63736  32.84640 -96.63711         0.021  Dallas  ...   \n",
       "2129315  -96.66617  32.86156 -96.65769         0.616  Dallas  ...   \n",
       "2129319  -96.70278  32.79498 -96.69424         0.502  Dallas  ...   \n",
       "2129320  -96.77046  32.84623 -96.77330         0.769  Dallas  ...   \n",
       "\n",
       "        Traffic_Calming Traffic_Signal  Sunrise_Sunset  Civil_Twilight  \\\n",
       "2129313           False          False             Day             Day   \n",
       "2129314           False          False             Day             Day   \n",
       "2129315           False          False             Day             Day   \n",
       "2129319           False          False             Day             Day   \n",
       "2129320           False           True             Day             Day   \n",
       "\n",
       "         Nautical_Twilight  Astronomical_Twilight               start  \\\n",
       "2129313                Day                    Day 2016-11-30 15:29:48   \n",
       "2129314                Day                    Day 2016-11-30 15:41:16   \n",
       "2129315                Day                    Day 2016-11-30 15:15:48   \n",
       "2129319                Day                    Day 2016-11-30 16:16:05   \n",
       "2129320                Day                    Day 2016-11-30 16:16:05   \n",
       "\n",
       "                        end    delay  delay_minutes  \n",
       "2129313 2016-11-30 21:29:48 06:00:00          360.0  \n",
       "2129314 2016-11-30 21:41:16 06:00:00          360.0  \n",
       "2129315 2016-11-30 21:15:48 06:00:00          360.0  \n",
       "2129319 2016-11-30 22:16:05 06:00:00          360.0  \n",
       "2129320 2016-11-30 22:16:05 06:00:00          360.0  \n",
       "\n",
       "[5 rows x 38 columns]"
      ]
     },
     "execution_count": 28,
     "metadata": {},
     "output_type": "execute_result"
    }
   ],
   "source": [
    "df = df[(df.delay_minutes<max_threshold)]\n",
    "df.head()"
   ]
  },
  {
   "cell_type": "code",
   "execution_count": 29,
   "metadata": {},
   "outputs": [
    {
     "data": {
      "text/plain": [
       "(42096, 38)"
      ]
     },
     "execution_count": 29,
     "metadata": {},
     "output_type": "execute_result"
    }
   ],
   "source": [
    "df.shape"
   ]
  },
  {
   "cell_type": "code",
   "execution_count": 30,
   "metadata": {},
   "outputs": [
    {
     "data": {
      "text/plain": [
       "<matplotlib.axes._subplots.AxesSubplot at 0x7fbe7ef96ee0>"
      ]
     },
     "execution_count": 30,
     "metadata": {},
     "output_type": "execute_result"
    },
    {
     "data": {
      "image/png": "[encoded data removed]",
      "text/plain": [
       "<Figure size 432x288 with 1 Axes>"
      ]
     },
     "metadata": {
      "needs_background": "light"
     },
     "output_type": "display_data"
    }
   ],
   "source": [
    "sns.boxplot(x='Severity', y='delay_minutes', data=df)"
   ]
  },
  {
   "cell_type": "code",
   "execution_count": 31,
   "metadata": {},
   "outputs": [
    {
     "data": {
      "text/html": [
       "<div>\n",
       "<style scoped>\n",
       "    .dataframe tbody tr th:only-of-type {\n",
       "        vertical-align: middle;\n",
       "    }\n",
       "\n",
       "    .dataframe tbody tr th {\n",
       "        vertical-align: top;\n",
       "    }\n",
       "\n",
       "    .dataframe thead th {\n",
       "        text-align: right;\n",
       "    }\n",
       "</style>\n",
       "<table border=\"1\" class=\"dataframe\">\n",
       "  <thead>\n",
       "    <tr style=\"text-align: right;\">\n",
       "      <th></th>\n",
       "      <th>Severity</th>\n",
       "      <th>delay_minutes</th>\n",
       "    </tr>\n",
       "  </thead>\n",
       "  <tbody>\n",
       "    <tr>\n",
       "      <th>0</th>\n",
       "      <td>1</td>\n",
       "      <td>49.694777</td>\n",
       "    </tr>\n",
       "    <tr>\n",
       "      <th>1</th>\n",
       "      <td>2</td>\n",
       "      <td>260.646633</td>\n",
       "    </tr>\n",
       "    <tr>\n",
       "      <th>2</th>\n",
       "      <td>3</td>\n",
       "      <td>199.714251</td>\n",
       "    </tr>\n",
       "    <tr>\n",
       "      <th>3</th>\n",
       "      <td>4</td>\n",
       "      <td>179.972504</td>\n",
       "    </tr>\n",
       "  </tbody>\n",
       "</table>\n",
       "</div>"
      ],
      "text/plain": [
       "   Severity  delay_minutes\n",
       "0         1      49.694777\n",
       "1         2     260.646633\n",
       "2         3     199.714251\n",
       "3         4     179.972504"
      ]
     },
     "execution_count": 31,
     "metadata": {},
     "output_type": "execute_result"
    }
   ],
   "source": [
    "df_del_sev_group = df[['delay_minutes', 'Severity']]\n",
    "df_del_sev_group = df_del_sev_group.groupby(['Severity'],as_index=False).mean()\n",
    "df_del_sev_group"
   ]
  },
  {
   "cell_type": "markdown",
   "metadata": {},
   "source": [
    "<p>There still doesn't appear to be a linear relationship between the delay caused by an accident and the severity level.</p>"
   ]
  },
  {
   "cell_type": "markdown",
   "metadata": {},
   "source": [
    "<p>Let's convert Severity into a binary where 0=[1,2], and 1=[3,4] so we can run a logistic regression and avoid ordinal logistic regression</p>"
   ]
  },
  {
   "cell_type": "code",
   "execution_count": 32,
   "metadata": {},
   "outputs": [],
   "source": [
    "df['Severity'].replace(to_replace=[1, 2, 3, 4], value=[0,0,1,1],inplace=True)"
   ]
  },
  {
   "cell_type": "code",
   "execution_count": 33,
   "metadata": {},
   "outputs": [
    {
     "data": {
      "text/plain": [
       "1    21315\n",
       "0    20781\n",
       "Name: Severity, dtype: int64"
      ]
     },
     "execution_count": 33,
     "metadata": {},
     "output_type": "execute_result"
    }
   ],
   "source": [
    "df['Severity'].value_counts()"
   ]
  },
  {
   "cell_type": "code",
   "execution_count": 34,
   "metadata": {},
   "outputs": [
    {
     "data": {
      "text/html": [
       "<div>\n",
       "<style scoped>\n",
       "    .dataframe tbody tr th:only-of-type {\n",
       "        vertical-align: middle;\n",
       "    }\n",
       "\n",
       "    .dataframe tbody tr th {\n",
       "        vertical-align: top;\n",
       "    }\n",
       "\n",
       "    .dataframe thead th {\n",
       "        text-align: right;\n",
       "    }\n",
       "</style>\n",
       "<table border=\"1\" class=\"dataframe\">\n",
       "  <thead>\n",
       "    <tr style=\"text-align: right;\">\n",
       "      <th></th>\n",
       "      <th>Severity</th>\n",
       "      <th>delay_minutes</th>\n",
       "    </tr>\n",
       "  </thead>\n",
       "  <tbody>\n",
       "    <tr>\n",
       "      <th>0</th>\n",
       "      <td>0</td>\n",
       "      <td>251.155272</td>\n",
       "    </tr>\n",
       "    <tr>\n",
       "      <th>1</th>\n",
       "      <td>1</td>\n",
       "      <td>196.281790</td>\n",
       "    </tr>\n",
       "  </tbody>\n",
       "</table>\n",
       "</div>"
      ],
      "text/plain": [
       "   Severity  delay_minutes\n",
       "0         0     251.155272\n",
       "1         1     196.281790"
      ]
     },
     "execution_count": 34,
     "metadata": {},
     "output_type": "execute_result"
    }
   ],
   "source": [
    "df_del_sev_group = df[['delay_minutes', 'Severity']]\n",
    "df_del_sev_group = df_del_sev_group.groupby(['Severity'],as_index=False).mean()\n",
    "df_del_sev_group"
   ]
  },
  {
   "cell_type": "code",
   "execution_count": 35,
   "metadata": {},
   "outputs": [
    {
     "name": "stdout",
     "output_type": "stream",
     "text": [
      "The Pearson Correlation Coefficient is -0.16629343020203846  with a P-value of P = 1.09218046193679e-258\n"
     ]
    }
   ],
   "source": [
    "pearson_coef, p_value = stats.pearsonr(df['delay_minutes'], df['Severity'])\n",
    "print(\"The Pearson Correlation Coefficient is\", pearson_coef, \" with a P-value of P =\", p_value)  "
   ]
  },
  {
   "cell_type": "markdown",
   "metadata": {},
   "source": [
    "<p>So while the delay is negatively correlated with the new outcome variable (Severity as a binary where 0 = [1,2], and 1 = [3, 4]), it is still statistically significant.</p>"
   ]
  },
  {
   "cell_type": "markdown",
   "metadata": {},
   "source": [
    "<h4>Frequency and severity of accidents by day and hour</h4>"
   ]
  },
  {
   "cell_type": "code",
   "execution_count": 36,
   "metadata": {},
   "outputs": [],
   "source": [
    "df['dayofweek'] = df['start'].dt.dayofweek"
   ]
  },
  {
   "cell_type": "code",
   "execution_count": 37,
   "metadata": {},
   "outputs": [
    {
     "data": {
      "text/plain": [
       "4    7809\n",
       "3    7761\n",
       "1    7673\n",
       "2    7346\n",
       "0    7010\n",
       "5    2516\n",
       "6    1981\n",
       "Name: dayofweek, dtype: int64"
      ]
     },
     "execution_count": 37,
     "metadata": {},
     "output_type": "execute_result"
    }
   ],
   "source": [
    "df['dayofweek'].value_counts()"
   ]
  },
  {
   "cell_type": "code",
   "execution_count": 38,
   "metadata": {},
   "outputs": [],
   "source": [
    "day_count = df['dayofweek'].value_counts().to_frame()"
   ]
  },
  {
   "cell_type": "code",
   "execution_count": 39,
   "metadata": {},
   "outputs": [
    {
     "data": {
      "image/png": "[encoded data removed]",
      "text/plain": [
       "<Figure size 576x360 with 1 Axes>"
      ]
     },
     "metadata": {
      "needs_background": "light"
     },
     "output_type": "display_data"
    }
   ],
   "source": [
    "day_count.plot(kind='bar', width=0.8, figsize=(8, 5))\n",
    "\n",
    "plt.title('Number of accidents by day of week')\n",
    "plt.ylabel('Number of accidents')\n",
    "plt.xlabel('day of week (0=Monday, etc.)')\n",
    "\n",
    "plt.show()"
   ]
  },
  {
   "cell_type": "markdown",
   "metadata": {},
   "source": [
    "<p>As seen in the figure above, most accidents happen during weekdays, with Friday being the highest.</p>"
   ]
  },
  {
   "cell_type": "code",
   "execution_count": 40,
   "metadata": {},
   "outputs": [
    {
     "data": {
      "text/html": [
       "<div>\n",
       "<style scoped>\n",
       "    .dataframe tbody tr th:only-of-type {\n",
       "        vertical-align: middle;\n",
       "    }\n",
       "\n",
       "    .dataframe tbody tr th {\n",
       "        vertical-align: top;\n",
       "    }\n",
       "\n",
       "    .dataframe thead th {\n",
       "        text-align: right;\n",
       "    }\n",
       "</style>\n",
       "<table border=\"1\" class=\"dataframe\">\n",
       "  <thead>\n",
       "    <tr style=\"text-align: right;\">\n",
       "      <th></th>\n",
       "      <th>dayofweek</th>\n",
       "      <th>Severity</th>\n",
       "    </tr>\n",
       "  </thead>\n",
       "  <tbody>\n",
       "    <tr>\n",
       "      <th>0</th>\n",
       "      <td>0</td>\n",
       "      <td>0.494722</td>\n",
       "    </tr>\n",
       "    <tr>\n",
       "      <th>1</th>\n",
       "      <td>1</td>\n",
       "      <td>0.458100</td>\n",
       "    </tr>\n",
       "    <tr>\n",
       "      <th>2</th>\n",
       "      <td>2</td>\n",
       "      <td>0.459570</td>\n",
       "    </tr>\n",
       "    <tr>\n",
       "      <th>3</th>\n",
       "      <td>3</td>\n",
       "      <td>0.461796</td>\n",
       "    </tr>\n",
       "    <tr>\n",
       "      <th>4</th>\n",
       "      <td>4</td>\n",
       "      <td>0.487386</td>\n",
       "    </tr>\n",
       "    <tr>\n",
       "      <th>5</th>\n",
       "      <td>5</td>\n",
       "      <td>0.800079</td>\n",
       "    </tr>\n",
       "    <tr>\n",
       "      <th>6</th>\n",
       "      <td>6</td>\n",
       "      <td>0.783948</td>\n",
       "    </tr>\n",
       "  </tbody>\n",
       "</table>\n",
       "</div>"
      ],
      "text/plain": [
       "   dayofweek  Severity\n",
       "0          0  0.494722\n",
       "1          1  0.458100\n",
       "2          2  0.459570\n",
       "3          3  0.461796\n",
       "4          4  0.487386\n",
       "5          5  0.800079\n",
       "6          6  0.783948"
      ]
     },
     "execution_count": 40,
     "metadata": {},
     "output_type": "execute_result"
    }
   ],
   "source": [
    "df_day_sev_group = df[['dayofweek', 'Severity']]\n",
    "df_day_sev_group = df_day_sev_group.groupby(['dayofweek'],as_index=False).mean()\n",
    "df_day_sev_group"
   ]
  },
  {
   "cell_type": "code",
   "execution_count": 147,
   "metadata": {},
   "outputs": [
    {
     "data": {
      "image/png": "[encoded data removed]",
      "text/plain": [
       "<Figure size 576x360 with 1 Axes>"
      ]
     },
     "metadata": {
      "needs_background": "light"
     },
     "output_type": "display_data"
    }
   ],
   "source": [
    "df_day_sev_group['Severity'].plot(kind='bar', width=0.8, figsize=(8, 5))\n",
    "\n",
    "plt.title('Mean severity by day of week')\n",
    "plt.ylabel('mean severity')\n",
    "plt.xlabel('day of week (0=Monday, etc.)')\n",
    "\n",
    "plt.show()"
   ]
  },
  {
   "cell_type": "markdown",
   "metadata": {},
   "source": [
    "<p>But while weekdays (Mon-Fri) account for most of the accidents, the more severe accidents happen on Saturday and Sunday (on average), as seen in the table above.</p>"
   ]
  },
  {
   "cell_type": "code",
   "execution_count": 41,
   "metadata": {},
   "outputs": [],
   "source": [
    "df['weekend'] = df['dayofweek'].apply(lambda x: 1 if (x>4)  else 0)"
   ]
  },
  {
   "cell_type": "code",
   "execution_count": 42,
   "metadata": {},
   "outputs": [
    {
     "data": {
      "text/plain": [
       "0    37599\n",
       "1     4497\n",
       "Name: weekend, dtype: int64"
      ]
     },
     "execution_count": 42,
     "metadata": {},
     "output_type": "execute_result"
    }
   ],
   "source": [
    "df['weekend'].value_counts()"
   ]
  },
  {
   "cell_type": "code",
   "execution_count": 43,
   "metadata": {},
   "outputs": [
    {
     "data": {
      "text/html": [
       "<div>\n",
       "<style scoped>\n",
       "    .dataframe tbody tr th:only-of-type {\n",
       "        vertical-align: middle;\n",
       "    }\n",
       "\n",
       "    .dataframe tbody tr th {\n",
       "        vertical-align: top;\n",
       "    }\n",
       "\n",
       "    .dataframe thead th {\n",
       "        text-align: right;\n",
       "    }\n",
       "</style>\n",
       "<table border=\"1\" class=\"dataframe\">\n",
       "  <thead>\n",
       "    <tr style=\"text-align: right;\">\n",
       "      <th></th>\n",
       "      <th>weekend</th>\n",
       "      <th>Severity</th>\n",
       "    </tr>\n",
       "  </thead>\n",
       "  <tbody>\n",
       "    <tr>\n",
       "      <th>0</th>\n",
       "      <td>0</td>\n",
       "      <td>0.472060</td>\n",
       "    </tr>\n",
       "    <tr>\n",
       "      <th>1</th>\n",
       "      <td>1</td>\n",
       "      <td>0.792973</td>\n",
       "    </tr>\n",
       "  </tbody>\n",
       "</table>\n",
       "</div>"
      ],
      "text/plain": [
       "   weekend  Severity\n",
       "0        0  0.472060\n",
       "1        1  0.792973"
      ]
     },
     "execution_count": 43,
     "metadata": {},
     "output_type": "execute_result"
    }
   ],
   "source": [
    "df_wend_sev_group = df[['weekend', 'Severity']]\n",
    "df_wend_sev_group = df_wend_sev_group.groupby(['weekend'],as_index=False).mean()\n",
    "df_wend_sev_group"
   ]
  },
  {
   "cell_type": "markdown",
   "metadata": {},
   "source": [
    "<p>After creating a dummy variable for if an accident occured on a weekday or a weekend, we see the average severity of accidents on the weekend is nearly twice that of those during the work week.</p>"
   ]
  },
  {
   "cell_type": "code",
   "execution_count": 44,
   "metadata": {},
   "outputs": [
    {
     "name": "stdout",
     "output_type": "stream",
     "text": [
      "The Pearson Correlation Coefficient is 0.19827162217506777  with a P-value of P = 0.0\n"
     ]
    }
   ],
   "source": [
    "pearson_coef, p_value = stats.pearsonr(df['weekend'], df['Severity'])\n",
    "print(\"The Pearson Correlation Coefficient is\", pearson_coef, \" with a P-value of P =\", p_value)  "
   ]
  },
  {
   "cell_type": "code",
   "execution_count": 45,
   "metadata": {},
   "outputs": [
    {
     "name": "stdout",
     "output_type": "stream",
     "text": [
      "The Pearson Correlation Coefficient is 0.1202145772308435  with a P-value of P = 2.8161064281148807e-135\n"
     ]
    }
   ],
   "source": [
    "pearson_coef, p_value = stats.pearsonr(df['dayofweek'], df['Severity'])\n",
    "print(\"The Pearson Correlation Coefficient is\", pearson_coef, \" with a P-value of P =\", p_value)  "
   ]
  },
  {
   "cell_type": "markdown",
   "metadata": {},
   "source": [
    "<p>Both 'dayofweek' and 'weekend' are statistically significant, but 'weekend' is more highly positively correlated with 'Severity'.</p><br>\n",
    "<p>Next, I explore the time of day the accidents occur.</p>"
   ]
  },
  {
   "cell_type": "code",
   "execution_count": 46,
   "metadata": {},
   "outputs": [
    {
     "data": {
      "text/plain": [
       "count                   42096\n",
       "unique                  37815\n",
       "top       2018-05-31 11:41:47\n",
       "freq                        8\n",
       "first     2016-06-17 13:19:34\n",
       "last      2020-06-29 13:18:20\n",
       "Name: start, dtype: object"
      ]
     },
     "execution_count": 46,
     "metadata": {},
     "output_type": "execute_result"
    }
   ],
   "source": [
    "df['start'].describe()"
   ]
  },
  {
   "cell_type": "code",
   "execution_count": 52,
   "metadata": {},
   "outputs": [],
   "source": [
    "df['start_hour'] = df['start'].dt.hour"
   ]
  },
  {
   "cell_type": "code",
   "execution_count": 57,
   "metadata": {
    "scrolled": true
   },
   "outputs": [],
   "source": [
    "hour_count = df['start_hour'].value_counts().to_frame()"
   ]
  },
  {
   "cell_type": "code",
   "execution_count": 62,
   "metadata": {},
   "outputs": [
    {
     "data": {
      "text/html": [
       "<div>\n",
       "<style scoped>\n",
       "    .dataframe tbody tr th:only-of-type {\n",
       "        vertical-align: middle;\n",
       "    }\n",
       "\n",
       "    .dataframe tbody tr th {\n",
       "        vertical-align: top;\n",
       "    }\n",
       "\n",
       "    .dataframe thead th {\n",
       "        text-align: right;\n",
       "    }\n",
       "</style>\n",
       "<table border=\"1\" class=\"dataframe\">\n",
       "  <thead>\n",
       "    <tr style=\"text-align: right;\">\n",
       "      <th></th>\n",
       "      <th>start_hour</th>\n",
       "    </tr>\n",
       "  </thead>\n",
       "  <tbody>\n",
       "    <tr>\n",
       "      <th>17</th>\n",
       "      <td>3292</td>\n",
       "    </tr>\n",
       "    <tr>\n",
       "      <th>7</th>\n",
       "      <td>3274</td>\n",
       "    </tr>\n",
       "    <tr>\n",
       "      <th>16</th>\n",
       "      <td>3241</td>\n",
       "    </tr>\n",
       "    <tr>\n",
       "      <th>15</th>\n",
       "      <td>2943</td>\n",
       "    </tr>\n",
       "    <tr>\n",
       "      <th>8</th>\n",
       "      <td>2866</td>\n",
       "    </tr>\n",
       "    <tr>\n",
       "      <th>18</th>\n",
       "      <td>2766</td>\n",
       "    </tr>\n",
       "    <tr>\n",
       "      <th>6</th>\n",
       "      <td>2611</td>\n",
       "    </tr>\n",
       "    <tr>\n",
       "      <th>14</th>\n",
       "      <td>2554</td>\n",
       "    </tr>\n",
       "    <tr>\n",
       "      <th>9</th>\n",
       "      <td>2530</td>\n",
       "    </tr>\n",
       "    <tr>\n",
       "      <th>13</th>\n",
       "      <td>2273</td>\n",
       "    </tr>\n",
       "    <tr>\n",
       "      <th>12</th>\n",
       "      <td>2102</td>\n",
       "    </tr>\n",
       "    <tr>\n",
       "      <th>11</th>\n",
       "      <td>1895</td>\n",
       "    </tr>\n",
       "    <tr>\n",
       "      <th>10</th>\n",
       "      <td>1860</td>\n",
       "    </tr>\n",
       "    <tr>\n",
       "      <th>19</th>\n",
       "      <td>1805</td>\n",
       "    </tr>\n",
       "    <tr>\n",
       "      <th>5</th>\n",
       "      <td>1283</td>\n",
       "    </tr>\n",
       "    <tr>\n",
       "      <th>20</th>\n",
       "      <td>1004</td>\n",
       "    </tr>\n",
       "    <tr>\n",
       "      <th>23</th>\n",
       "      <td>594</td>\n",
       "    </tr>\n",
       "    <tr>\n",
       "      <th>4</th>\n",
       "      <td>584</td>\n",
       "    </tr>\n",
       "    <tr>\n",
       "      <th>21</th>\n",
       "      <td>544</td>\n",
       "    </tr>\n",
       "    <tr>\n",
       "      <th>22</th>\n",
       "      <td>524</td>\n",
       "    </tr>\n",
       "    <tr>\n",
       "      <th>3</th>\n",
       "      <td>452</td>\n",
       "    </tr>\n",
       "    <tr>\n",
       "      <th>0</th>\n",
       "      <td>396</td>\n",
       "    </tr>\n",
       "    <tr>\n",
       "      <th>2</th>\n",
       "      <td>361</td>\n",
       "    </tr>\n",
       "    <tr>\n",
       "      <th>1</th>\n",
       "      <td>342</td>\n",
       "    </tr>\n",
       "  </tbody>\n",
       "</table>\n",
       "</div>"
      ],
      "text/plain": [
       "    start_hour\n",
       "17        3292\n",
       "7         3274\n",
       "16        3241\n",
       "15        2943\n",
       "8         2866\n",
       "18        2766\n",
       "6         2611\n",
       "14        2554\n",
       "9         2530\n",
       "13        2273\n",
       "12        2102\n",
       "11        1895\n",
       "10        1860\n",
       "19        1805\n",
       "5         1283\n",
       "20        1004\n",
       "23         594\n",
       "4          584\n",
       "21         544\n",
       "22         524\n",
       "3          452\n",
       "0          396\n",
       "2          361\n",
       "1          342"
      ]
     },
     "execution_count": 62,
     "metadata": {},
     "output_type": "execute_result"
    }
   ],
   "source": [
    "hour_count"
   ]
  },
  {
   "cell_type": "code",
   "execution_count": 68,
   "metadata": {},
   "outputs": [
    {
     "data": {
      "text/html": [
       "<div>\n",
       "<style scoped>\n",
       "    .dataframe tbody tr th:only-of-type {\n",
       "        vertical-align: middle;\n",
       "    }\n",
       "\n",
       "    .dataframe tbody tr th {\n",
       "        vertical-align: top;\n",
       "    }\n",
       "\n",
       "    .dataframe thead th {\n",
       "        text-align: right;\n",
       "    }\n",
       "</style>\n",
       "<table border=\"1\" class=\"dataframe\">\n",
       "  <thead>\n",
       "    <tr style=\"text-align: right;\">\n",
       "      <th></th>\n",
       "      <th>total_accidents</th>\n",
       "    </tr>\n",
       "  </thead>\n",
       "  <tbody>\n",
       "    <tr>\n",
       "      <th>17</th>\n",
       "      <td>3292</td>\n",
       "    </tr>\n",
       "    <tr>\n",
       "      <th>7</th>\n",
       "      <td>3274</td>\n",
       "    </tr>\n",
       "    <tr>\n",
       "      <th>16</th>\n",
       "      <td>3241</td>\n",
       "    </tr>\n",
       "    <tr>\n",
       "      <th>15</th>\n",
       "      <td>2943</td>\n",
       "    </tr>\n",
       "    <tr>\n",
       "      <th>8</th>\n",
       "      <td>2866</td>\n",
       "    </tr>\n",
       "    <tr>\n",
       "      <th>18</th>\n",
       "      <td>2766</td>\n",
       "    </tr>\n",
       "    <tr>\n",
       "      <th>6</th>\n",
       "      <td>2611</td>\n",
       "    </tr>\n",
       "    <tr>\n",
       "      <th>14</th>\n",
       "      <td>2554</td>\n",
       "    </tr>\n",
       "    <tr>\n",
       "      <th>9</th>\n",
       "      <td>2530</td>\n",
       "    </tr>\n",
       "    <tr>\n",
       "      <th>13</th>\n",
       "      <td>2273</td>\n",
       "    </tr>\n",
       "    <tr>\n",
       "      <th>12</th>\n",
       "      <td>2102</td>\n",
       "    </tr>\n",
       "    <tr>\n",
       "      <th>11</th>\n",
       "      <td>1895</td>\n",
       "    </tr>\n",
       "    <tr>\n",
       "      <th>10</th>\n",
       "      <td>1860</td>\n",
       "    </tr>\n",
       "    <tr>\n",
       "      <th>19</th>\n",
       "      <td>1805</td>\n",
       "    </tr>\n",
       "    <tr>\n",
       "      <th>5</th>\n",
       "      <td>1283</td>\n",
       "    </tr>\n",
       "    <tr>\n",
       "      <th>20</th>\n",
       "      <td>1004</td>\n",
       "    </tr>\n",
       "    <tr>\n",
       "      <th>23</th>\n",
       "      <td>594</td>\n",
       "    </tr>\n",
       "    <tr>\n",
       "      <th>4</th>\n",
       "      <td>584</td>\n",
       "    </tr>\n",
       "    <tr>\n",
       "      <th>21</th>\n",
       "      <td>544</td>\n",
       "    </tr>\n",
       "    <tr>\n",
       "      <th>22</th>\n",
       "      <td>524</td>\n",
       "    </tr>\n",
       "    <tr>\n",
       "      <th>3</th>\n",
       "      <td>452</td>\n",
       "    </tr>\n",
       "    <tr>\n",
       "      <th>0</th>\n",
       "      <td>396</td>\n",
       "    </tr>\n",
       "    <tr>\n",
       "      <th>2</th>\n",
       "      <td>361</td>\n",
       "    </tr>\n",
       "    <tr>\n",
       "      <th>1</th>\n",
       "      <td>342</td>\n",
       "    </tr>\n",
       "  </tbody>\n",
       "</table>\n",
       "</div>"
      ],
      "text/plain": [
       "    total_accidents\n",
       "17             3292\n",
       "7              3274\n",
       "16             3241\n",
       "15             2943\n",
       "8              2866\n",
       "18             2766\n",
       "6              2611\n",
       "14             2554\n",
       "9              2530\n",
       "13             2273\n",
       "12             2102\n",
       "11             1895\n",
       "10             1860\n",
       "19             1805\n",
       "5              1283\n",
       "20             1004\n",
       "23              594\n",
       "4               584\n",
       "21              544\n",
       "22              524\n",
       "3               452\n",
       "0               396\n",
       "2               361\n",
       "1               342"
      ]
     },
     "execution_count": 68,
     "metadata": {},
     "output_type": "execute_result"
    }
   ],
   "source": [
    "hour_count.rename(columns={'start_hour': 'total_accidents'}, inplace=True)\n",
    "hour_count"
   ]
  },
  {
   "cell_type": "code",
   "execution_count": 69,
   "metadata": {},
   "outputs": [
    {
     "data": {
      "text/html": [
       "<div>\n",
       "<style scoped>\n",
       "    .dataframe tbody tr th:only-of-type {\n",
       "        vertical-align: middle;\n",
       "    }\n",
       "\n",
       "    .dataframe tbody tr th {\n",
       "        vertical-align: top;\n",
       "    }\n",
       "\n",
       "    .dataframe thead th {\n",
       "        text-align: right;\n",
       "    }\n",
       "</style>\n",
       "<table border=\"1\" class=\"dataframe\">\n",
       "  <thead>\n",
       "    <tr style=\"text-align: right;\">\n",
       "      <th></th>\n",
       "      <th>total_accidents</th>\n",
       "    </tr>\n",
       "    <tr>\n",
       "      <th>hour</th>\n",
       "      <th></th>\n",
       "    </tr>\n",
       "  </thead>\n",
       "  <tbody>\n",
       "    <tr>\n",
       "      <th>17</th>\n",
       "      <td>3292</td>\n",
       "    </tr>\n",
       "    <tr>\n",
       "      <th>7</th>\n",
       "      <td>3274</td>\n",
       "    </tr>\n",
       "    <tr>\n",
       "      <th>16</th>\n",
       "      <td>3241</td>\n",
       "    </tr>\n",
       "    <tr>\n",
       "      <th>15</th>\n",
       "      <td>2943</td>\n",
       "    </tr>\n",
       "    <tr>\n",
       "      <th>8</th>\n",
       "      <td>2866</td>\n",
       "    </tr>\n",
       "    <tr>\n",
       "      <th>18</th>\n",
       "      <td>2766</td>\n",
       "    </tr>\n",
       "    <tr>\n",
       "      <th>6</th>\n",
       "      <td>2611</td>\n",
       "    </tr>\n",
       "    <tr>\n",
       "      <th>14</th>\n",
       "      <td>2554</td>\n",
       "    </tr>\n",
       "    <tr>\n",
       "      <th>9</th>\n",
       "      <td>2530</td>\n",
       "    </tr>\n",
       "    <tr>\n",
       "      <th>13</th>\n",
       "      <td>2273</td>\n",
       "    </tr>\n",
       "    <tr>\n",
       "      <th>12</th>\n",
       "      <td>2102</td>\n",
       "    </tr>\n",
       "    <tr>\n",
       "      <th>11</th>\n",
       "      <td>1895</td>\n",
       "    </tr>\n",
       "    <tr>\n",
       "      <th>10</th>\n",
       "      <td>1860</td>\n",
       "    </tr>\n",
       "    <tr>\n",
       "      <th>19</th>\n",
       "      <td>1805</td>\n",
       "    </tr>\n",
       "    <tr>\n",
       "      <th>5</th>\n",
       "      <td>1283</td>\n",
       "    </tr>\n",
       "    <tr>\n",
       "      <th>20</th>\n",
       "      <td>1004</td>\n",
       "    </tr>\n",
       "    <tr>\n",
       "      <th>23</th>\n",
       "      <td>594</td>\n",
       "    </tr>\n",
       "    <tr>\n",
       "      <th>4</th>\n",
       "      <td>584</td>\n",
       "    </tr>\n",
       "    <tr>\n",
       "      <th>21</th>\n",
       "      <td>544</td>\n",
       "    </tr>\n",
       "    <tr>\n",
       "      <th>22</th>\n",
       "      <td>524</td>\n",
       "    </tr>\n",
       "    <tr>\n",
       "      <th>3</th>\n",
       "      <td>452</td>\n",
       "    </tr>\n",
       "    <tr>\n",
       "      <th>0</th>\n",
       "      <td>396</td>\n",
       "    </tr>\n",
       "    <tr>\n",
       "      <th>2</th>\n",
       "      <td>361</td>\n",
       "    </tr>\n",
       "    <tr>\n",
       "      <th>1</th>\n",
       "      <td>342</td>\n",
       "    </tr>\n",
       "  </tbody>\n",
       "</table>\n",
       "</div>"
      ],
      "text/plain": [
       "      total_accidents\n",
       "hour                 \n",
       "17               3292\n",
       "7                3274\n",
       "16               3241\n",
       "15               2943\n",
       "8                2866\n",
       "18               2766\n",
       "6                2611\n",
       "14               2554\n",
       "9                2530\n",
       "13               2273\n",
       "12               2102\n",
       "11               1895\n",
       "10               1860\n",
       "19               1805\n",
       "5                1283\n",
       "20               1004\n",
       "23                594\n",
       "4                 584\n",
       "21                544\n",
       "22                524\n",
       "3                 452\n",
       "0                 396\n",
       "2                 361\n",
       "1                 342"
      ]
     },
     "execution_count": 69,
     "metadata": {},
     "output_type": "execute_result"
    }
   ],
   "source": [
    "hour_count.index.name = 'hour'\n",
    "hour_count"
   ]
  },
  {
   "cell_type": "code",
   "execution_count": 71,
   "metadata": {},
   "outputs": [],
   "source": [
    "hour_count = hour_count.sort_values('hour')"
   ]
  },
  {
   "cell_type": "code",
   "execution_count": 72,
   "metadata": {},
   "outputs": [
    {
     "data": {
      "image/png": "[encoded data removed]",
      "text/plain": [
       "<Figure size 576x360 with 1 Axes>"
      ]
     },
     "metadata": {
      "needs_background": "light"
     },
     "output_type": "display_data"
    }
   ],
   "source": [
    "hour_count.plot(kind='bar', width=0.8, figsize=(8, 5))\n",
    "\n",
    "plt.title('Number of accidents by hour of day')\n",
    "plt.ylabel('Number of accidents')\n",
    "plt.xlabel('hour of day')\n",
    "\n",
    "plt.show()"
   ]
  },
  {
   "cell_type": "markdown",
   "metadata": {},
   "source": [
    "<p>As seen in the figure above, most accidents happen during commuting hours, implying that more cars on the road could equate to more accidents.</p>"
   ]
  },
  {
   "cell_type": "code",
   "execution_count": 75,
   "metadata": {},
   "outputs": [
    {
     "data": {
      "text/html": [
       "<div>\n",
       "<style scoped>\n",
       "    .dataframe tbody tr th:only-of-type {\n",
       "        vertical-align: middle;\n",
       "    }\n",
       "\n",
       "    .dataframe tbody tr th {\n",
       "        vertical-align: top;\n",
       "    }\n",
       "\n",
       "    .dataframe thead th {\n",
       "        text-align: right;\n",
       "    }\n",
       "</style>\n",
       "<table border=\"1\" class=\"dataframe\">\n",
       "  <thead>\n",
       "    <tr style=\"text-align: right;\">\n",
       "      <th></th>\n",
       "      <th>start_hour</th>\n",
       "      <th>Severity</th>\n",
       "    </tr>\n",
       "  </thead>\n",
       "  <tbody>\n",
       "    <tr>\n",
       "      <th>0</th>\n",
       "      <td>0</td>\n",
       "      <td>0.742424</td>\n",
       "    </tr>\n",
       "    <tr>\n",
       "      <th>1</th>\n",
       "      <td>1</td>\n",
       "      <td>0.771930</td>\n",
       "    </tr>\n",
       "    <tr>\n",
       "      <th>2</th>\n",
       "      <td>2</td>\n",
       "      <td>0.767313</td>\n",
       "    </tr>\n",
       "    <tr>\n",
       "      <th>3</th>\n",
       "      <td>3</td>\n",
       "      <td>0.823009</td>\n",
       "    </tr>\n",
       "    <tr>\n",
       "      <th>4</th>\n",
       "      <td>4</td>\n",
       "      <td>0.654110</td>\n",
       "    </tr>\n",
       "    <tr>\n",
       "      <th>5</th>\n",
       "      <td>5</td>\n",
       "      <td>0.573655</td>\n",
       "    </tr>\n",
       "    <tr>\n",
       "      <th>6</th>\n",
       "      <td>6</td>\n",
       "      <td>0.469169</td>\n",
       "    </tr>\n",
       "    <tr>\n",
       "      <th>7</th>\n",
       "      <td>7</td>\n",
       "      <td>0.441662</td>\n",
       "    </tr>\n",
       "    <tr>\n",
       "      <th>8</th>\n",
       "      <td>8</td>\n",
       "      <td>0.420098</td>\n",
       "    </tr>\n",
       "    <tr>\n",
       "      <th>9</th>\n",
       "      <td>9</td>\n",
       "      <td>0.435968</td>\n",
       "    </tr>\n",
       "    <tr>\n",
       "      <th>10</th>\n",
       "      <td>10</td>\n",
       "      <td>0.469892</td>\n",
       "    </tr>\n",
       "    <tr>\n",
       "      <th>11</th>\n",
       "      <td>11</td>\n",
       "      <td>0.468074</td>\n",
       "    </tr>\n",
       "    <tr>\n",
       "      <th>12</th>\n",
       "      <td>12</td>\n",
       "      <td>0.493815</td>\n",
       "    </tr>\n",
       "    <tr>\n",
       "      <th>13</th>\n",
       "      <td>13</td>\n",
       "      <td>0.489661</td>\n",
       "    </tr>\n",
       "    <tr>\n",
       "      <th>14</th>\n",
       "      <td>14</td>\n",
       "      <td>0.514487</td>\n",
       "    </tr>\n",
       "    <tr>\n",
       "      <th>15</th>\n",
       "      <td>15</td>\n",
       "      <td>0.487598</td>\n",
       "    </tr>\n",
       "    <tr>\n",
       "      <th>16</th>\n",
       "      <td>16</td>\n",
       "      <td>0.465906</td>\n",
       "    </tr>\n",
       "    <tr>\n",
       "      <th>17</th>\n",
       "      <td>17</td>\n",
       "      <td>0.474787</td>\n",
       "    </tr>\n",
       "    <tr>\n",
       "      <th>18</th>\n",
       "      <td>18</td>\n",
       "      <td>0.498915</td>\n",
       "    </tr>\n",
       "    <tr>\n",
       "      <th>19</th>\n",
       "      <td>19</td>\n",
       "      <td>0.550693</td>\n",
       "    </tr>\n",
       "    <tr>\n",
       "      <th>20</th>\n",
       "      <td>20</td>\n",
       "      <td>0.617530</td>\n",
       "    </tr>\n",
       "    <tr>\n",
       "      <th>21</th>\n",
       "      <td>21</td>\n",
       "      <td>0.704044</td>\n",
       "    </tr>\n",
       "    <tr>\n",
       "      <th>22</th>\n",
       "      <td>22</td>\n",
       "      <td>0.809160</td>\n",
       "    </tr>\n",
       "    <tr>\n",
       "      <th>23</th>\n",
       "      <td>23</td>\n",
       "      <td>0.803030</td>\n",
       "    </tr>\n",
       "  </tbody>\n",
       "</table>\n",
       "</div>"
      ],
      "text/plain": [
       "    start_hour  Severity\n",
       "0            0  0.742424\n",
       "1            1  0.771930\n",
       "2            2  0.767313\n",
       "3            3  0.823009\n",
       "4            4  0.654110\n",
       "5            5  0.573655\n",
       "6            6  0.469169\n",
       "7            7  0.441662\n",
       "8            8  0.420098\n",
       "9            9  0.435968\n",
       "10          10  0.469892\n",
       "11          11  0.468074\n",
       "12          12  0.493815\n",
       "13          13  0.489661\n",
       "14          14  0.514487\n",
       "15          15  0.487598\n",
       "16          16  0.465906\n",
       "17          17  0.474787\n",
       "18          18  0.498915\n",
       "19          19  0.550693\n",
       "20          20  0.617530\n",
       "21          21  0.704044\n",
       "22          22  0.809160\n",
       "23          23  0.803030"
      ]
     },
     "execution_count": 75,
     "metadata": {},
     "output_type": "execute_result"
    }
   ],
   "source": [
    "df_hr_sev_group = df[['start_hour', 'Severity']]\n",
    "df_hr_sev_group = df_hr_sev_group.groupby(['start_hour'],as_index=False).mean()\n",
    "df_hr_sev_group"
   ]
  },
  {
   "cell_type": "code",
   "execution_count": 78,
   "metadata": {},
   "outputs": [
    {
     "data": {
      "image/png": "[encoded data removed]",
      "text/plain": [
       "<Figure size 576x360 with 1 Axes>"
      ]
     },
     "metadata": {
      "needs_background": "light"
     },
     "output_type": "display_data"
    }
   ],
   "source": [
    "df_hr_sev_group['Severity'].plot(kind='bar', width=0.8, figsize=(8, 5))\n",
    "\n",
    "plt.title('Mean Severity by hour of day')\n",
    "plt.ylabel('average Severity')\n",
    "plt.xlabel('hour of day')\n",
    "\n",
    "plt.show()"
   ]
  },
  {
   "cell_type": "markdown",
   "metadata": {},
   "source": [
    "<p>But while most accidents happen during daylight hours, the more severe accidents happen at night (on average).</p>"
   ]
  },
  {
   "cell_type": "code",
   "execution_count": 55,
   "metadata": {},
   "outputs": [
    {
     "name": "stdout",
     "output_type": "stream",
     "text": [
      "The Pearson Correlation Coefficient is 0.021640865355963913  with a P-value of P = 8.974530476614274e-06\n"
     ]
    }
   ],
   "source": [
    "pearson_coef, p_value = stats.pearsonr(df['start_hour'], df['Severity'])\n",
    "print(\"The Pearson Correlation Coefficient is\", pearson_coef, \" with a P-value of P =\", p_value)  "
   ]
  },
  {
   "cell_type": "markdown",
   "metadata": {},
   "source": [
    "<h3>Exploring other variables</h3><br>\n",
    "<h4>Day vs. Night</h4>"
   ]
  },
  {
   "cell_type": "code",
   "execution_count": 79,
   "metadata": {},
   "outputs": [],
   "source": [
    "df['Sunrise_Sunset'].replace(to_replace=['Day','Night'], value=[0,1],inplace=True)\n",
    "df['Civil_Twilight'].replace(to_replace=['Day','Night'], value=[0,1],inplace=True)\n",
    "df['Nautical_Twilight'].replace(to_replace=['Day','Night'], value=[0,1],inplace=True)\n",
    "df['Astronomical_Twilight'].replace(to_replace=['Day','Night'], value=[0,1],inplace=True)"
   ]
  },
  {
   "cell_type": "code",
   "execution_count": 148,
   "metadata": {},
   "outputs": [
    {
     "data": {
      "text/html": [
       "<div>\n",
       "<style scoped>\n",
       "    .dataframe tbody tr th:only-of-type {\n",
       "        vertical-align: middle;\n",
       "    }\n",
       "\n",
       "    .dataframe tbody tr th {\n",
       "        vertical-align: top;\n",
       "    }\n",
       "\n",
       "    .dataframe thead th {\n",
       "        text-align: right;\n",
       "    }\n",
       "</style>\n",
       "<table border=\"1\" class=\"dataframe\">\n",
       "  <thead>\n",
       "    <tr style=\"text-align: right;\">\n",
       "      <th></th>\n",
       "      <th>Sunrise_Sunset</th>\n",
       "      <th>Severity</th>\n",
       "    </tr>\n",
       "  </thead>\n",
       "  <tbody>\n",
       "    <tr>\n",
       "      <th>0</th>\n",
       "      <td>0</td>\n",
       "      <td>0.476862</td>\n",
       "    </tr>\n",
       "    <tr>\n",
       "      <th>1</th>\n",
       "      <td>1</td>\n",
       "      <td>0.594774</td>\n",
       "    </tr>\n",
       "  </tbody>\n",
       "</table>\n",
       "</div>"
      ],
      "text/plain": [
       "   Sunrise_Sunset  Severity\n",
       "0               0  0.476862\n",
       "1               1  0.594774"
      ]
     },
     "execution_count": 148,
     "metadata": {},
     "output_type": "execute_result"
    }
   ],
   "source": [
    "df_ss_sev_group = df[['Sunrise_Sunset', 'Severity']]\n",
    "df_ss_sev_group = df_ss_sev_group.groupby(['Sunrise_Sunset'],as_index=False).mean()\n",
    "df_ss_sev_group"
   ]
  },
  {
   "cell_type": "code",
   "execution_count": 149,
   "metadata": {},
   "outputs": [
    {
     "data": {
      "text/html": [
       "<div>\n",
       "<style scoped>\n",
       "    .dataframe tbody tr th:only-of-type {\n",
       "        vertical-align: middle;\n",
       "    }\n",
       "\n",
       "    .dataframe tbody tr th {\n",
       "        vertical-align: top;\n",
       "    }\n",
       "\n",
       "    .dataframe thead th {\n",
       "        text-align: right;\n",
       "    }\n",
       "</style>\n",
       "<table border=\"1\" class=\"dataframe\">\n",
       "  <thead>\n",
       "    <tr style=\"text-align: right;\">\n",
       "      <th></th>\n",
       "      <th>Civil_Twilight</th>\n",
       "      <th>Severity</th>\n",
       "    </tr>\n",
       "  </thead>\n",
       "  <tbody>\n",
       "    <tr>\n",
       "      <th>0</th>\n",
       "      <td>0</td>\n",
       "      <td>0.476159</td>\n",
       "    </tr>\n",
       "    <tr>\n",
       "      <th>1</th>\n",
       "      <td>1</td>\n",
       "      <td>0.624577</td>\n",
       "    </tr>\n",
       "  </tbody>\n",
       "</table>\n",
       "</div>"
      ],
      "text/plain": [
       "   Civil_Twilight  Severity\n",
       "0               0  0.476159\n",
       "1               1  0.624577"
      ]
     },
     "execution_count": 149,
     "metadata": {},
     "output_type": "execute_result"
    }
   ],
   "source": [
    "df_ct_sev_group = df[['Civil_Twilight', 'Severity']]\n",
    "df_ct_sev_group = df_ct_sev_group.groupby(['Civil_Twilight'],as_index=False).mean()\n",
    "df_ct_sev_group"
   ]
  },
  {
   "cell_type": "code",
   "execution_count": 150,
   "metadata": {},
   "outputs": [
    {
     "data": {
      "text/html": [
       "<div>\n",
       "<style scoped>\n",
       "    .dataframe tbody tr th:only-of-type {\n",
       "        vertical-align: middle;\n",
       "    }\n",
       "\n",
       "    .dataframe tbody tr th {\n",
       "        vertical-align: top;\n",
       "    }\n",
       "\n",
       "    .dataframe thead th {\n",
       "        text-align: right;\n",
       "    }\n",
       "</style>\n",
       "<table border=\"1\" class=\"dataframe\">\n",
       "  <thead>\n",
       "    <tr style=\"text-align: right;\">\n",
       "      <th></th>\n",
       "      <th>Nautical_Twilight</th>\n",
       "      <th>Severity</th>\n",
       "    </tr>\n",
       "  </thead>\n",
       "  <tbody>\n",
       "    <tr>\n",
       "      <th>0</th>\n",
       "      <td>0</td>\n",
       "      <td>0.476446</td>\n",
       "    </tr>\n",
       "    <tr>\n",
       "      <th>1</th>\n",
       "      <td>1</td>\n",
       "      <td>0.664033</td>\n",
       "    </tr>\n",
       "  </tbody>\n",
       "</table>\n",
       "</div>"
      ],
      "text/plain": [
       "   Nautical_Twilight  Severity\n",
       "0                  0  0.476446\n",
       "1                  1  0.664033"
      ]
     },
     "execution_count": 150,
     "metadata": {},
     "output_type": "execute_result"
    }
   ],
   "source": [
    "df_nt_sev_group = df[['Nautical_Twilight', 'Severity']]\n",
    "df_nt_sev_group = df_nt_sev_group.groupby(['Nautical_Twilight'],as_index=False).mean()\n",
    "df_nt_sev_group"
   ]
  },
  {
   "cell_type": "code",
   "execution_count": 151,
   "metadata": {},
   "outputs": [
    {
     "data": {
      "text/html": [
       "<div>\n",
       "<style scoped>\n",
       "    .dataframe tbody tr th:only-of-type {\n",
       "        vertical-align: middle;\n",
       "    }\n",
       "\n",
       "    .dataframe tbody tr th {\n",
       "        vertical-align: top;\n",
       "    }\n",
       "\n",
       "    .dataframe thead th {\n",
       "        text-align: right;\n",
       "    }\n",
       "</style>\n",
       "<table border=\"1\" class=\"dataframe\">\n",
       "  <thead>\n",
       "    <tr style=\"text-align: right;\">\n",
       "      <th></th>\n",
       "      <th>Astronomical_Twilight</th>\n",
       "      <th>Severity</th>\n",
       "    </tr>\n",
       "  </thead>\n",
       "  <tbody>\n",
       "    <tr>\n",
       "      <th>0</th>\n",
       "      <td>0</td>\n",
       "      <td>0.477859</td>\n",
       "    </tr>\n",
       "    <tr>\n",
       "      <th>1</th>\n",
       "      <td>1</td>\n",
       "      <td>0.707607</td>\n",
       "    </tr>\n",
       "  </tbody>\n",
       "</table>\n",
       "</div>"
      ],
      "text/plain": [
       "   Astronomical_Twilight  Severity\n",
       "0                      0  0.477859\n",
       "1                      1  0.707607"
      ]
     },
     "execution_count": 151,
     "metadata": {},
     "output_type": "execute_result"
    }
   ],
   "source": [
    "df_at_sev_group = df[['Astronomical_Twilight', 'Severity']]\n",
    "df_at_sev_group = df_at_sev_group.groupby(['Astronomical_Twilight'],as_index=False).mean()\n",
    "df_at_sev_group"
   ]
  },
  {
   "cell_type": "code",
   "execution_count": 152,
   "metadata": {},
   "outputs": [
    {
     "name": "stdout",
     "output_type": "stream",
     "text": [
      "The Pearson Correlation Coefficient is 0.10212681903527117  with a P-value of P = 5.542131571978836e-98\n"
     ]
    }
   ],
   "source": [
    "pearson_coef, p_value = stats.pearsonr(df['Sunrise_Sunset'], df['Severity'])\n",
    "print(\"The Pearson Correlation Coefficient is\", pearson_coef, \" with a P-value of P =\", p_value)  "
   ]
  },
  {
   "cell_type": "code",
   "execution_count": 153,
   "metadata": {},
   "outputs": [
    {
     "name": "stdout",
     "output_type": "stream",
     "text": [
      "The Pearson Correlation Coefficient is 0.11948685579285154  with a P-value of P = 1.174795276567532e-133\n"
     ]
    }
   ],
   "source": [
    "pearson_coef, p_value = stats.pearsonr(df['Civil_Twilight'], df['Severity'])\n",
    "print(\"The Pearson Correlation Coefficient is\", pearson_coef, \" with a P-value of P =\", p_value)  "
   ]
  },
  {
   "cell_type": "code",
   "execution_count": 154,
   "metadata": {},
   "outputs": [
    {
     "name": "stdout",
     "output_type": "stream",
     "text": [
      "The Pearson Correlation Coefficient is 0.1373340293527533  with a P-value of P = 2.5560312502864433e-176\n"
     ]
    }
   ],
   "source": [
    "pearson_coef, p_value = stats.pearsonr(df['Nautical_Twilight'], df['Severity'])\n",
    "print(\"The Pearson Correlation Coefficient is\", pearson_coef, \" with a P-value of P =\", p_value)  "
   ]
  },
  {
   "cell_type": "code",
   "execution_count": 155,
   "metadata": {},
   "outputs": [
    {
     "name": "stdout",
     "output_type": "stream",
     "text": [
      "The Pearson Correlation Coefficient is 0.1514423280051958  with a P-value of P = 2.138946262999781e-214\n"
     ]
    }
   ],
   "source": [
    "pearson_coef, p_value = stats.pearsonr(df['Astronomical_Twilight'], df['Severity'])\n",
    "print(\"The Pearson Correlation Coefficient is\", pearson_coef, \" with a P-value of P =\", p_value)  "
   ]
  },
  {
   "cell_type": "markdown",
   "metadata": {},
   "source": [
    "<h4>Weather Conditions</h4>"
   ]
  },
  {
   "cell_type": "code",
   "execution_count": 88,
   "metadata": {},
   "outputs": [
    {
     "data": {
      "text/plain": [
       "<matplotlib.axes._subplots.AxesSubplot at 0x7fbe71e06880>"
      ]
     },
     "execution_count": 88,
     "metadata": {},
     "output_type": "execute_result"
    },
    {
     "data": {
      "image/png": "[encoded data removed]",
      "text/plain": [
       "<Figure size 576x360 with 1 Axes>"
      ]
     },
     "metadata": {
      "needs_background": "light"
     },
     "output_type": "display_data"
    }
   ],
   "source": [
    "df['Temperature(F)'].plot(kind='hist', figsize=(8, 5))"
   ]
  },
  {
   "cell_type": "code",
   "execution_count": 89,
   "metadata": {},
   "outputs": [
    {
     "data": {
      "image/png": "[encoded data removed]",
      "text/plain": [
       "<Figure size 432x288 with 1 Axes>"
      ]
     },
     "metadata": {
      "needs_background": "light"
     },
     "output_type": "display_data"
    }
   ],
   "source": [
    "plt.scatter(df['Temperature(F)'], df['delay_minutes'],  color='blue')\n",
    "plt.xlabel(\"Temperature(F)\")\n",
    "plt.ylabel(\"delay_minutes\")\n",
    "plt.show()"
   ]
  },
  {
   "cell_type": "code",
   "execution_count": 90,
   "metadata": {},
   "outputs": [
    {
     "data": {
      "text/plain": [
       "<matplotlib.axes._subplots.AxesSubplot at 0x7fbe756b1190>"
      ]
     },
     "execution_count": 90,
     "metadata": {},
     "output_type": "execute_result"
    },
    {
     "data": {
      "image/png": "[encoded data removed]",
      "text/plain": [
       "<Figure size 576x360 with 1 Axes>"
      ]
     },
     "metadata": {
      "needs_background": "light"
     },
     "output_type": "display_data"
    }
   ],
   "source": [
    "df['delay_minutes'].plot(kind='hist', figsize=(8, 5))"
   ]
  },
  {
   "cell_type": "code",
   "execution_count": 91,
   "metadata": {},
   "outputs": [
    {
     "name": "stdout",
     "output_type": "stream",
     "text": [
      "The Pearson Correlation Coefficient is -0.027827043515055976  with a P-value of P = 1.1277927501433087e-08\n"
     ]
    }
   ],
   "source": [
    "pearson_coef, p_value = stats.pearsonr(df['Temperature(F)'], df['Severity'])\n",
    "print(\"The Pearson Correlation Coefficient is\", pearson_coef, \" with a P-value of P =\", p_value)  "
   ]
  },
  {
   "cell_type": "code",
   "execution_count": 92,
   "metadata": {},
   "outputs": [
    {
     "data": {
      "text/plain": [
       "count    42096.000000\n",
       "mean         0.006523\n",
       "std          0.050817\n",
       "min          0.000000\n",
       "25%          0.000000\n",
       "50%          0.000000\n",
       "75%          0.000000\n",
       "max          2.310000\n",
       "Name: Precipitation(in), dtype: float64"
      ]
     },
     "execution_count": 92,
     "metadata": {},
     "output_type": "execute_result"
    }
   ],
   "source": [
    "df[\"Precipitation(in)\"].replace(np.nan, 0, inplace=True)\n",
    "df['Precipitation(in)'].describe()"
   ]
  },
  {
   "cell_type": "code",
   "execution_count": 93,
   "metadata": {},
   "outputs": [
    {
     "data": {
      "image/png": "[encoded data removed]",
      "text/plain": [
       "<Figure size 432x288 with 1 Axes>"
      ]
     },
     "metadata": {
      "needs_background": "light"
     },
     "output_type": "display_data"
    }
   ],
   "source": [
    "plt.scatter(df['Precipitation(in)'], df['delay_minutes'],  color='blue')\n",
    "plt.xlabel(\"Precipitation(in)\")\n",
    "plt.ylabel(\"delay_sec\")\n",
    "plt.show()"
   ]
  },
  {
   "cell_type": "code",
   "execution_count": 94,
   "metadata": {},
   "outputs": [
    {
     "data": {
      "text/plain": [
       "360.000000     23947\n",
       "15.000000       1916\n",
       "30.000000       1617\n",
       "60.000000        966\n",
       "45.000000        792\n",
       "               ...  \n",
       "405.383333         1\n",
       "30.083333          1\n",
       "299.033333         1\n",
       "3480.000000        1\n",
       "480.000000         1\n",
       "Name: delay_minutes, Length: 873, dtype: int64"
      ]
     },
     "execution_count": 94,
     "metadata": {},
     "output_type": "execute_result"
    }
   ],
   "source": [
    "df['delay_minutes'].value_counts()"
   ]
  },
  {
   "cell_type": "markdown",
   "metadata": {},
   "source": [
    "<p>It seems that the majority of accidents recorded cause delays of 6 hours</p>"
   ]
  },
  {
   "cell_type": "code",
   "execution_count": 95,
   "metadata": {},
   "outputs": [
    {
     "data": {
      "text/plain": [
       "<matplotlib.axes._subplots.AxesSubplot at 0x7fbe79529c70>"
      ]
     },
     "execution_count": 95,
     "metadata": {},
     "output_type": "execute_result"
    },
    {
     "data": {
      "image/png": "[encoded data removed]",
      "text/plain": [
       "<Figure size 432x288 with 1 Axes>"
      ]
     },
     "metadata": {
      "needs_background": "light"
     },
     "output_type": "display_data"
    }
   ],
   "source": [
    "sns.boxplot(x='Severity', y='Precipitation(in)', data=df)"
   ]
  },
  {
   "cell_type": "code",
   "execution_count": 96,
   "metadata": {},
   "outputs": [
    {
     "data": {
      "text/html": [
       "<div>\n",
       "<style scoped>\n",
       "    .dataframe tbody tr th:only-of-type {\n",
       "        vertical-align: middle;\n",
       "    }\n",
       "\n",
       "    .dataframe tbody tr th {\n",
       "        vertical-align: top;\n",
       "    }\n",
       "\n",
       "    .dataframe thead th {\n",
       "        text-align: right;\n",
       "    }\n",
       "</style>\n",
       "<table border=\"1\" class=\"dataframe\">\n",
       "  <thead>\n",
       "    <tr style=\"text-align: right;\">\n",
       "      <th></th>\n",
       "      <th>Severity</th>\n",
       "      <th>Precipitation(in)</th>\n",
       "    </tr>\n",
       "  </thead>\n",
       "  <tbody>\n",
       "    <tr>\n",
       "      <th>0</th>\n",
       "      <td>0</td>\n",
       "      <td>0.005792</td>\n",
       "    </tr>\n",
       "    <tr>\n",
       "      <th>1</th>\n",
       "      <td>1</td>\n",
       "      <td>0.007235</td>\n",
       "    </tr>\n",
       "  </tbody>\n",
       "</table>\n",
       "</div>"
      ],
      "text/plain": [
       "   Severity  Precipitation(in)\n",
       "0         0           0.005792\n",
       "1         1           0.007235"
      ]
     },
     "execution_count": 96,
     "metadata": {},
     "output_type": "execute_result"
    }
   ],
   "source": [
    "df_rain_sev_group = df[['Precipitation(in)', 'Severity']]\n",
    "df_rain_sev_group = df_rain_sev_group.groupby(['Severity'],as_index=False).mean()\n",
    "df_rain_sev_group"
   ]
  },
  {
   "cell_type": "code",
   "execution_count": 97,
   "metadata": {},
   "outputs": [
    {
     "name": "stdout",
     "output_type": "stream",
     "text": [
      "The Pearson Correlation Coefficient is 0.014201533476721366  with a P-value of P = 0.0035702081702961705\n"
     ]
    }
   ],
   "source": [
    "pearson_coef, p_value = stats.pearsonr(df['Precipitation(in)'], df['Severity'])\n",
    "print(\"The Pearson Correlation Coefficient is\", pearson_coef, \" with a P-value of P =\", p_value)  "
   ]
  },
  {
   "cell_type": "markdown",
   "metadata": {},
   "source": [
    "<p>Rain is weakly correlated with Severity and weakly statistically significant.</p>"
   ]
  },
  {
   "cell_type": "code",
   "execution_count": 98,
   "metadata": {},
   "outputs": [
    {
     "data": {
      "text/plain": [
       "<matplotlib.axes._subplots.AxesSubplot at 0x7fbe59e828b0>"
      ]
     },
     "execution_count": 98,
     "metadata": {},
     "output_type": "execute_result"
    },
    {
     "data": {
      "image/png": "[encoded data removed]",
      "text/plain": [
       "<Figure size 432x288 with 1 Axes>"
      ]
     },
     "metadata": {
      "needs_background": "light"
     },
     "output_type": "display_data"
    }
   ],
   "source": [
    "sns.boxplot(x='Severity', y='Visibility(mi)', data=df)"
   ]
  },
  {
   "cell_type": "code",
   "execution_count": 99,
   "metadata": {},
   "outputs": [
    {
     "name": "stdout",
     "output_type": "stream",
     "text": [
      "The Pearson Correlation Coefficient is -0.03243535395966497  with a P-value of P = 2.8058594747925288e-11\n"
     ]
    }
   ],
   "source": [
    "pearson_coef, p_value = stats.pearsonr(df['Visibility(mi)'], df['Severity'])\n",
    "print(\"The Pearson Correlation Coefficient is\", pearson_coef, \" with a P-value of P =\", p_value)  "
   ]
  },
  {
   "cell_type": "markdown",
   "metadata": {},
   "source": [
    "<p>Visibility is statistically significant</p>"
   ]
  },
  {
   "cell_type": "markdown",
   "metadata": {},
   "source": [
    "<h4>Investigating POIs</h4>"
   ]
  },
  {
   "cell_type": "code",
   "execution_count": 100,
   "metadata": {},
   "outputs": [
    {
     "data": {
      "text/plain": [
       "False    41933\n",
       "True       163\n",
       "Name: Amenity, dtype: int64"
      ]
     },
     "execution_count": 100,
     "metadata": {},
     "output_type": "execute_result"
    }
   ],
   "source": [
    "df['Amenity'].value_counts()"
   ]
  },
  {
   "cell_type": "code",
   "execution_count": 101,
   "metadata": {},
   "outputs": [
    {
     "data": {
      "text/html": [
       "<div>\n",
       "<style scoped>\n",
       "    .dataframe tbody tr th:only-of-type {\n",
       "        vertical-align: middle;\n",
       "    }\n",
       "\n",
       "    .dataframe tbody tr th {\n",
       "        vertical-align: top;\n",
       "    }\n",
       "\n",
       "    .dataframe thead th {\n",
       "        text-align: right;\n",
       "    }\n",
       "</style>\n",
       "<table border=\"1\" class=\"dataframe\">\n",
       "  <thead>\n",
       "    <tr style=\"text-align: right;\">\n",
       "      <th></th>\n",
       "      <th>Amenity</th>\n",
       "      <th>Severity</th>\n",
       "    </tr>\n",
       "  </thead>\n",
       "  <tbody>\n",
       "    <tr>\n",
       "      <th>0</th>\n",
       "      <td>False</td>\n",
       "      <td>0.507572</td>\n",
       "    </tr>\n",
       "    <tr>\n",
       "      <th>1</th>\n",
       "      <td>True</td>\n",
       "      <td>0.190184</td>\n",
       "    </tr>\n",
       "  </tbody>\n",
       "</table>\n",
       "</div>"
      ],
      "text/plain": [
       "   Amenity  Severity\n",
       "0    False  0.507572\n",
       "1     True  0.190184"
      ]
     },
     "execution_count": 101,
     "metadata": {},
     "output_type": "execute_result"
    }
   ],
   "source": [
    "df_amenity_group = df[['Amenity', 'Severity']]\n",
    "df_amenity_group = df_amenity_group.groupby(['Amenity'],as_index=False).mean()\n",
    "df_amenity_group"
   ]
  },
  {
   "cell_type": "code",
   "execution_count": 102,
   "metadata": {},
   "outputs": [
    {
     "name": "stdout",
     "output_type": "stream",
     "text": [
      "The Pearson Correlation Coefficient is -0.039426277189377905  with a P-value of P = 5.863639519795824e-16\n"
     ]
    }
   ],
   "source": [
    "pearson_coef, p_value = stats.pearsonr(df['Amenity'], df['Severity'])\n",
    "print(\"The Pearson Correlation Coefficient is\", pearson_coef, \" with a P-value of P =\", p_value)  "
   ]
  },
  {
   "cell_type": "markdown",
   "metadata": {},
   "source": [
    "<p>Amenity is statistically significant</p>"
   ]
  },
  {
   "cell_type": "code",
   "execution_count": 103,
   "metadata": {},
   "outputs": [
    {
     "data": {
      "text/plain": [
       "False    42095\n",
       "True         1\n",
       "Name: Bump, dtype: int64"
      ]
     },
     "execution_count": 103,
     "metadata": {},
     "output_type": "execute_result"
    }
   ],
   "source": [
    "df['Bump'].value_counts() "
   ]
  },
  {
   "cell_type": "markdown",
   "metadata": {},
   "source": [
    "<p>There is only 1 bump in Texas data</p>"
   ]
  },
  {
   "cell_type": "code",
   "execution_count": 104,
   "metadata": {},
   "outputs": [
    {
     "data": {
      "text/plain": [
       "False    41109\n",
       "True       987\n",
       "Name: Crossing, dtype: int64"
      ]
     },
     "execution_count": 104,
     "metadata": {},
     "output_type": "execute_result"
    }
   ],
   "source": [
    "df['Crossing'].value_counts() "
   ]
  },
  {
   "cell_type": "code",
   "execution_count": 105,
   "metadata": {},
   "outputs": [
    {
     "data": {
      "text/html": [
       "<div>\n",
       "<style scoped>\n",
       "    .dataframe tbody tr th:only-of-type {\n",
       "        vertical-align: middle;\n",
       "    }\n",
       "\n",
       "    .dataframe tbody tr th {\n",
       "        vertical-align: top;\n",
       "    }\n",
       "\n",
       "    .dataframe thead th {\n",
       "        text-align: right;\n",
       "    }\n",
       "</style>\n",
       "<table border=\"1\" class=\"dataframe\">\n",
       "  <thead>\n",
       "    <tr style=\"text-align: right;\">\n",
       "      <th></th>\n",
       "      <th>Crossing</th>\n",
       "      <th>Severity</th>\n",
       "    </tr>\n",
       "  </thead>\n",
       "  <tbody>\n",
       "    <tr>\n",
       "      <th>0</th>\n",
       "      <td>False</td>\n",
       "      <td>0.510424</td>\n",
       "    </tr>\n",
       "    <tr>\n",
       "      <th>1</th>\n",
       "      <td>True</td>\n",
       "      <td>0.336373</td>\n",
       "    </tr>\n",
       "  </tbody>\n",
       "</table>\n",
       "</div>"
      ],
      "text/plain": [
       "   Crossing  Severity\n",
       "0     False  0.510424\n",
       "1      True  0.336373"
      ]
     },
     "execution_count": 105,
     "metadata": {},
     "output_type": "execute_result"
    }
   ],
   "source": [
    "df_cross_group = df[['Crossing', 'Severity']]\n",
    "df_cross_group = df_cross_group.groupby(['Crossing'],as_index=False).mean()\n",
    "df_cross_group"
   ]
  },
  {
   "cell_type": "code",
   "execution_count": 106,
   "metadata": {},
   "outputs": [
    {
     "name": "stdout",
     "output_type": "stream",
     "text": [
      "The Pearson Correlation Coefficient is -0.05267770191119814  with a P-value of P = 2.9154342240642222e-27\n"
     ]
    }
   ],
   "source": [
    "pearson_coef, p_value = stats.pearsonr(df['Crossing'], df['Severity'])\n",
    "print(\"The Pearson Correlation Coefficient is\", pearson_coef, \" with a P-value of P =\", p_value)  "
   ]
  },
  {
   "cell_type": "code",
   "execution_count": 107,
   "metadata": {},
   "outputs": [
    {
     "data": {
      "text/plain": [
       "False    41992\n",
       "True       104\n",
       "Name: Give_Way, dtype: int64"
      ]
     },
     "execution_count": 107,
     "metadata": {},
     "output_type": "execute_result"
    }
   ],
   "source": [
    "df['Give_Way'].value_counts() "
   ]
  },
  {
   "cell_type": "code",
   "execution_count": 108,
   "metadata": {},
   "outputs": [
    {
     "data": {
      "text/html": [
       "<div>\n",
       "<style scoped>\n",
       "    .dataframe tbody tr th:only-of-type {\n",
       "        vertical-align: middle;\n",
       "    }\n",
       "\n",
       "    .dataframe tbody tr th {\n",
       "        vertical-align: top;\n",
       "    }\n",
       "\n",
       "    .dataframe thead th {\n",
       "        text-align: right;\n",
       "    }\n",
       "</style>\n",
       "<table border=\"1\" class=\"dataframe\">\n",
       "  <thead>\n",
       "    <tr style=\"text-align: right;\">\n",
       "      <th></th>\n",
       "      <th>Give_Way</th>\n",
       "      <th>Severity</th>\n",
       "    </tr>\n",
       "  </thead>\n",
       "  <tbody>\n",
       "    <tr>\n",
       "      <th>0</th>\n",
       "      <td>False</td>\n",
       "      <td>0.506263</td>\n",
       "    </tr>\n",
       "    <tr>\n",
       "      <th>1</th>\n",
       "      <td>True</td>\n",
       "      <td>0.538462</td>\n",
       "    </tr>\n",
       "  </tbody>\n",
       "</table>\n",
       "</div>"
      ],
      "text/plain": [
       "   Give_Way  Severity\n",
       "0     False  0.506263\n",
       "1      True  0.538462"
      ]
     },
     "execution_count": 108,
     "metadata": {},
     "output_type": "execute_result"
    }
   ],
   "source": [
    "df_gw_group = df[['Give_Way', 'Severity']]\n",
    "df_gw_group = df_gw_group.groupby(['Give_Way'],as_index=False).mean()\n",
    "df_gw_group"
   ]
  },
  {
   "cell_type": "code",
   "execution_count": 109,
   "metadata": {},
   "outputs": [
    {
     "name": "stdout",
     "output_type": "stream",
     "text": [
      "The Pearson Correlation Coefficient is 0.0031971197293017917  with a P-value of P = 0.5118594124273923\n"
     ]
    }
   ],
   "source": [
    "pearson_coef, p_value = stats.pearsonr(df['Give_Way'], df['Severity'])\n",
    "print(\"The Pearson Correlation Coefficient is\", pearson_coef, \" with a P-value of P =\", p_value)  "
   ]
  },
  {
   "cell_type": "code",
   "execution_count": 110,
   "metadata": {},
   "outputs": [
    {
     "data": {
      "text/plain": [
       "False    32765\n",
       "True      9331\n",
       "Name: Junction, dtype: int64"
      ]
     },
     "execution_count": 110,
     "metadata": {},
     "output_type": "execute_result"
    }
   ],
   "source": [
    "df['Junction'].value_counts() "
   ]
  },
  {
   "cell_type": "code",
   "execution_count": 111,
   "metadata": {},
   "outputs": [
    {
     "data": {
      "text/html": [
       "<div>\n",
       "<style scoped>\n",
       "    .dataframe tbody tr th:only-of-type {\n",
       "        vertical-align: middle;\n",
       "    }\n",
       "\n",
       "    .dataframe tbody tr th {\n",
       "        vertical-align: top;\n",
       "    }\n",
       "\n",
       "    .dataframe thead th {\n",
       "        text-align: right;\n",
       "    }\n",
       "</style>\n",
       "<table border=\"1\" class=\"dataframe\">\n",
       "  <thead>\n",
       "    <tr style=\"text-align: right;\">\n",
       "      <th></th>\n",
       "      <th>Junction</th>\n",
       "      <th>Severity</th>\n",
       "    </tr>\n",
       "  </thead>\n",
       "  <tbody>\n",
       "    <tr>\n",
       "      <th>0</th>\n",
       "      <td>False</td>\n",
       "      <td>0.492385</td>\n",
       "    </tr>\n",
       "    <tr>\n",
       "      <th>1</th>\n",
       "      <td>True</td>\n",
       "      <td>0.555353</td>\n",
       "    </tr>\n",
       "  </tbody>\n",
       "</table>\n",
       "</div>"
      ],
      "text/plain": [
       "   Junction  Severity\n",
       "0     False  0.492385\n",
       "1      True  0.555353"
      ]
     },
     "execution_count": 111,
     "metadata": {},
     "output_type": "execute_result"
    }
   ],
   "source": [
    "df_junc_group = df[['Junction', 'Severity']]\n",
    "df_junc_group = df_junc_group.groupby(['Junction'],as_index=False).mean()\n",
    "df_junc_group"
   ]
  },
  {
   "cell_type": "code",
   "execution_count": 112,
   "metadata": {},
   "outputs": [
    {
     "name": "stdout",
     "output_type": "stream",
     "text": [
      "The Pearson Correlation Coefficient is 0.05231339352944298  with a P-value of P = 6.580416217497338e-27\n"
     ]
    }
   ],
   "source": [
    "pearson_coef, p_value = stats.pearsonr(df['Junction'], df['Severity'])\n",
    "print(\"The Pearson Correlation Coefficient is\", pearson_coef, \" with a P-value of P =\", p_value)  "
   ]
  },
  {
   "cell_type": "code",
   "execution_count": 113,
   "metadata": {},
   "outputs": [
    {
     "data": {
      "text/plain": [
       "False    42086\n",
       "True        10\n",
       "Name: No_Exit, dtype: int64"
      ]
     },
     "execution_count": 113,
     "metadata": {},
     "output_type": "execute_result"
    }
   ],
   "source": [
    "df['No_Exit'].value_counts() "
   ]
  },
  {
   "cell_type": "code",
   "execution_count": 114,
   "metadata": {},
   "outputs": [
    {
     "data": {
      "text/plain": [
       "False    41965\n",
       "True       131\n",
       "Name: Railway, dtype: int64"
      ]
     },
     "execution_count": 114,
     "metadata": {},
     "output_type": "execute_result"
    }
   ],
   "source": [
    "df['Railway'].value_counts() "
   ]
  },
  {
   "cell_type": "code",
   "execution_count": 115,
   "metadata": {},
   "outputs": [
    {
     "data": {
      "text/html": [
       "<div>\n",
       "<style scoped>\n",
       "    .dataframe tbody tr th:only-of-type {\n",
       "        vertical-align: middle;\n",
       "    }\n",
       "\n",
       "    .dataframe tbody tr th {\n",
       "        vertical-align: top;\n",
       "    }\n",
       "\n",
       "    .dataframe thead th {\n",
       "        text-align: right;\n",
       "    }\n",
       "</style>\n",
       "<table border=\"1\" class=\"dataframe\">\n",
       "  <thead>\n",
       "    <tr style=\"text-align: right;\">\n",
       "      <th></th>\n",
       "      <th>Railway</th>\n",
       "      <th>Severity</th>\n",
       "    </tr>\n",
       "  </thead>\n",
       "  <tbody>\n",
       "    <tr>\n",
       "      <th>0</th>\n",
       "      <td>False</td>\n",
       "      <td>0.506565</td>\n",
       "    </tr>\n",
       "    <tr>\n",
       "      <th>1</th>\n",
       "      <td>True</td>\n",
       "      <td>0.435115</td>\n",
       "    </tr>\n",
       "  </tbody>\n",
       "</table>\n",
       "</div>"
      ],
      "text/plain": [
       "   Railway  Severity\n",
       "0    False  0.506565\n",
       "1     True  0.435115"
      ]
     },
     "execution_count": 115,
     "metadata": {},
     "output_type": "execute_result"
    }
   ],
   "source": [
    "df_rw_group = df[['Railway', 'Severity']]\n",
    "df_rw_group = df_rw_group.groupby(['Railway'],as_index=False).mean()\n",
    "df_rw_group"
   ]
  },
  {
   "cell_type": "code",
   "execution_count": 116,
   "metadata": {},
   "outputs": [
    {
     "name": "stdout",
     "output_type": "stream",
     "text": [
      "The Pearson Correlation Coefficient is -0.007959917899801758  with a P-value of P = 0.10243989486500629\n"
     ]
    }
   ],
   "source": [
    "pearson_coef, p_value = stats.pearsonr(df['Railway'], df['Severity'])\n",
    "print(\"The Pearson Correlation Coefficient is\", pearson_coef, \" with a P-value of P =\", p_value)  "
   ]
  },
  {
   "cell_type": "code",
   "execution_count": 117,
   "metadata": {},
   "outputs": [
    {
     "data": {
      "text/plain": [
       "False    42096\n",
       "Name: Roundabout, dtype: int64"
      ]
     },
     "execution_count": 117,
     "metadata": {},
     "output_type": "execute_result"
    }
   ],
   "source": [
    "df['Roundabout'].value_counts() "
   ]
  },
  {
   "cell_type": "code",
   "execution_count": 118,
   "metadata": {},
   "outputs": [
    {
     "data": {
      "text/plain": [
       "False    41987\n",
       "True       109\n",
       "Name: Station, dtype: int64"
      ]
     },
     "execution_count": 118,
     "metadata": {},
     "output_type": "execute_result"
    }
   ],
   "source": [
    "df['Station'].value_counts() "
   ]
  },
  {
   "cell_type": "code",
   "execution_count": 119,
   "metadata": {},
   "outputs": [
    {
     "data": {
      "text/html": [
       "<div>\n",
       "<style scoped>\n",
       "    .dataframe tbody tr th:only-of-type {\n",
       "        vertical-align: middle;\n",
       "    }\n",
       "\n",
       "    .dataframe tbody tr th {\n",
       "        vertical-align: top;\n",
       "    }\n",
       "\n",
       "    .dataframe thead th {\n",
       "        text-align: right;\n",
       "    }\n",
       "</style>\n",
       "<table border=\"1\" class=\"dataframe\">\n",
       "  <thead>\n",
       "    <tr style=\"text-align: right;\">\n",
       "      <th></th>\n",
       "      <th>Station</th>\n",
       "      <th>Severity</th>\n",
       "    </tr>\n",
       "  </thead>\n",
       "  <tbody>\n",
       "    <tr>\n",
       "      <th>0</th>\n",
       "      <td>False</td>\n",
       "      <td>0.507181</td>\n",
       "    </tr>\n",
       "    <tr>\n",
       "      <th>1</th>\n",
       "      <td>True</td>\n",
       "      <td>0.183486</td>\n",
       "    </tr>\n",
       "  </tbody>\n",
       "</table>\n",
       "</div>"
      ],
      "text/plain": [
       "   Station  Severity\n",
       "0    False  0.507181\n",
       "1     True  0.183486"
      ]
     },
     "execution_count": 119,
     "metadata": {},
     "output_type": "execute_result"
    }
   ],
   "source": [
    "df_stat_group = df[['Station', 'Severity']]\n",
    "df_stat_group = df_stat_group.groupby(['Station'],as_index=False).mean()\n",
    "df_stat_group"
   ]
  },
  {
   "cell_type": "code",
   "execution_count": 120,
   "metadata": {},
   "outputs": [
    {
     "name": "stdout",
     "output_type": "stream",
     "text": [
      "The Pearson Correlation Coefficient is -0.03290259688127032  with a P-value of P = 1.4546407603803208e-11\n"
     ]
    }
   ],
   "source": [
    "pearson_coef, p_value = stats.pearsonr(df['Station'], df['Severity'])\n",
    "print(\"The Pearson Correlation Coefficient is\", pearson_coef, \" with a P-value of P =\", p_value)  "
   ]
  },
  {
   "cell_type": "code",
   "execution_count": 121,
   "metadata": {},
   "outputs": [
    {
     "data": {
      "text/plain": [
       "False    42008\n",
       "True        88\n",
       "Name: Stop, dtype: int64"
      ]
     },
     "execution_count": 121,
     "metadata": {},
     "output_type": "execute_result"
    }
   ],
   "source": [
    "df['Stop'].value_counts() "
   ]
  },
  {
   "cell_type": "code",
   "execution_count": 122,
   "metadata": {},
   "outputs": [
    {
     "data": {
      "text/html": [
       "<div>\n",
       "<style scoped>\n",
       "    .dataframe tbody tr th:only-of-type {\n",
       "        vertical-align: middle;\n",
       "    }\n",
       "\n",
       "    .dataframe tbody tr th {\n",
       "        vertical-align: top;\n",
       "    }\n",
       "\n",
       "    .dataframe thead th {\n",
       "        text-align: right;\n",
       "    }\n",
       "</style>\n",
       "<table border=\"1\" class=\"dataframe\">\n",
       "  <thead>\n",
       "    <tr style=\"text-align: right;\">\n",
       "      <th></th>\n",
       "      <th>Stop</th>\n",
       "      <th>Severity</th>\n",
       "    </tr>\n",
       "  </thead>\n",
       "  <tbody>\n",
       "    <tr>\n",
       "      <th>0</th>\n",
       "      <td>False</td>\n",
       "      <td>0.506761</td>\n",
       "    </tr>\n",
       "    <tr>\n",
       "      <th>1</th>\n",
       "      <td>True</td>\n",
       "      <td>0.306818</td>\n",
       "    </tr>\n",
       "  </tbody>\n",
       "</table>\n",
       "</div>"
      ],
      "text/plain": [
       "    Stop  Severity\n",
       "0  False  0.506761\n",
       "1   True  0.306818"
      ]
     },
     "execution_count": 122,
     "metadata": {},
     "output_type": "execute_result"
    }
   ],
   "source": [
    "df_stop_group = df[['Stop', 'Severity']]\n",
    "df_stop_group = df_stop_group.groupby(['Stop'],as_index=False).mean()\n",
    "df_stop_group"
   ]
  },
  {
   "cell_type": "code",
   "execution_count": 123,
   "metadata": {},
   "outputs": [
    {
     "name": "stdout",
     "output_type": "stream",
     "text": [
      "The Pearson Correlation Coefficient is -0.018265704455550844  with a P-value of P = 0.00017836929025708524\n"
     ]
    }
   ],
   "source": [
    "pearson_coef, p_value = stats.pearsonr(df['Stop'], df['Severity'])\n",
    "print(\"The Pearson Correlation Coefficient is\", pearson_coef, \" with a P-value of P =\", p_value)  "
   ]
  },
  {
   "cell_type": "code",
   "execution_count": 124,
   "metadata": {},
   "outputs": [
    {
     "data": {
      "text/plain": [
       "False    42090\n",
       "True         6\n",
       "Name: Traffic_Calming, dtype: int64"
      ]
     },
     "execution_count": 124,
     "metadata": {},
     "output_type": "execute_result"
    }
   ],
   "source": [
    "df['Traffic_Calming'].value_counts() "
   ]
  },
  {
   "cell_type": "code",
   "execution_count": 125,
   "metadata": {},
   "outputs": [
    {
     "data": {
      "text/plain": [
       "False    38094\n",
       "True      4002\n",
       "Name: Traffic_Signal, dtype: int64"
      ]
     },
     "execution_count": 125,
     "metadata": {},
     "output_type": "execute_result"
    }
   ],
   "source": [
    "df['Traffic_Signal'].value_counts() "
   ]
  },
  {
   "cell_type": "code",
   "execution_count": 126,
   "metadata": {},
   "outputs": [
    {
     "data": {
      "text/html": [
       "<div>\n",
       "<style scoped>\n",
       "    .dataframe tbody tr th:only-of-type {\n",
       "        vertical-align: middle;\n",
       "    }\n",
       "\n",
       "    .dataframe tbody tr th {\n",
       "        vertical-align: top;\n",
       "    }\n",
       "\n",
       "    .dataframe thead th {\n",
       "        text-align: right;\n",
       "    }\n",
       "</style>\n",
       "<table border=\"1\" class=\"dataframe\">\n",
       "  <thead>\n",
       "    <tr style=\"text-align: right;\">\n",
       "      <th></th>\n",
       "      <th>Traffic_Signal</th>\n",
       "      <th>Severity</th>\n",
       "    </tr>\n",
       "  </thead>\n",
       "  <tbody>\n",
       "    <tr>\n",
       "      <th>0</th>\n",
       "      <td>False</td>\n",
       "      <td>0.530687</td>\n",
       "    </tr>\n",
       "    <tr>\n",
       "      <th>1</th>\n",
       "      <td>True</td>\n",
       "      <td>0.274613</td>\n",
       "    </tr>\n",
       "  </tbody>\n",
       "</table>\n",
       "</div>"
      ],
      "text/plain": [
       "   Traffic_Signal  Severity\n",
       "0           False  0.530687\n",
       "1            True  0.274613"
      ]
     },
     "execution_count": 126,
     "metadata": {},
     "output_type": "execute_result"
    }
   ],
   "source": [
    "df_ts_group = df[['Traffic_Signal', 'Severity']]\n",
    "df_ts_group = df_ts_group.groupby(['Traffic_Signal'],as_index=False).mean()\n",
    "df_ts_group"
   ]
  },
  {
   "cell_type": "code",
   "execution_count": 127,
   "metadata": {},
   "outputs": [
    {
     "name": "stdout",
     "output_type": "stream",
     "text": [
      "The Pearson Correlation Coefficient is -0.15023024159334772  with a P-value of P = 5.672636402022375e-211\n"
     ]
    }
   ],
   "source": [
    "pearson_coef, p_value = stats.pearsonr(df['Traffic_Signal'], df['Severity'])\n",
    "print(\"The Pearson Correlation Coefficient is\", pearson_coef, \" with a P-value of P =\", p_value)  "
   ]
  },
  {
   "cell_type": "markdown",
   "metadata": {},
   "source": [
    "<h2>Creating the Feature Set</h2>"
   ]
  },
  {
   "cell_type": "code",
   "execution_count": 128,
   "metadata": {},
   "outputs": [
    {
     "data": {
      "text/plain": [
       "Source                            object\n",
       "Severity                           int64\n",
       "Start_Time                        object\n",
       "End_Time                          object\n",
       "Start_Lat                        float64\n",
       "Start_Lng                        float64\n",
       "End_Lat                          float64\n",
       "End_Lng                          float64\n",
       "Distance(mi)                     float64\n",
       "County                            object\n",
       "State                             object\n",
       "Zipcode                           object\n",
       "Temperature(F)                   float64\n",
       "Humidity(%)                      float64\n",
       "Visibility(mi)                   float64\n",
       "Wind_Speed(mph)                  float64\n",
       "Precipitation(in)                float64\n",
       "Weather_Condition                 object\n",
       "Amenity                             bool\n",
       "Bump                                bool\n",
       "Crossing                            bool\n",
       "Give_Way                            bool\n",
       "Junction                            bool\n",
       "No_Exit                             bool\n",
       "Railway                             bool\n",
       "Roundabout                          bool\n",
       "Station                             bool\n",
       "Stop                                bool\n",
       "Traffic_Calming                     bool\n",
       "Traffic_Signal                      bool\n",
       "Sunrise_Sunset                     int64\n",
       "Civil_Twilight                     int64\n",
       "Nautical_Twilight                  int64\n",
       "Astronomical_Twilight              int64\n",
       "start                     datetime64[ns]\n",
       "end                       datetime64[ns]\n",
       "delay                    timedelta64[ns]\n",
       "delay_minutes                    float64\n",
       "dayofweek                          int64\n",
       "weekend                            int64\n",
       "start_clock                        int64\n",
       "start_hour                         int64\n",
       "dtype: object"
      ]
     },
     "execution_count": 128,
     "metadata": {},
     "output_type": "execute_result"
    }
   ],
   "source": [
    "df.dtypes"
   ]
  },
  {
   "cell_type": "code",
   "execution_count": 129,
   "metadata": {},
   "outputs": [],
   "source": [
    "df[[\"Amenity\",\"Bump\",\"Crossing\",\"Junction\",\"No_Exit\",\"Railway\",\"Roundabout\",\"Station\",\"Stop\",\"Traffic_Calming\",\"Traffic_Signal\"]] = df[[\"Amenity\",\"Bump\",\"Crossing\",\"Junction\",\"No_Exit\",\"Railway\",\"Roundabout\",\"Station\",\"Stop\",\"Traffic_Calming\",\"Traffic_Signal\"]].astype(\"float\")"
   ]
  },
  {
   "cell_type": "code",
   "execution_count": 130,
   "metadata": {},
   "outputs": [],
   "source": [
    "df[[\"Severity\"]] = df[[\"Severity\"]].astype(\"int\")"
   ]
  },
  {
   "cell_type": "code",
   "execution_count": 131,
   "metadata": {},
   "outputs": [
    {
     "data": {
      "text/plain": [
       "Index(['Source', 'Severity', 'Start_Time', 'End_Time', 'Start_Lat',\n",
       "       'Start_Lng', 'End_Lat', 'End_Lng', 'Distance(mi)', 'County', 'State',\n",
       "       'Zipcode', 'Temperature(F)', 'Humidity(%)', 'Visibility(mi)',\n",
       "       'Wind_Speed(mph)', 'Precipitation(in)', 'Weather_Condition', 'Amenity',\n",
       "       'Bump', 'Crossing', 'Give_Way', 'Junction', 'No_Exit', 'Railway',\n",
       "       'Roundabout', 'Station', 'Stop', 'Traffic_Calming', 'Traffic_Signal',\n",
       "       'Sunrise_Sunset', 'Civil_Twilight', 'Nautical_Twilight',\n",
       "       'Astronomical_Twilight', 'start', 'end', 'delay', 'delay_minutes',\n",
       "       'dayofweek', 'weekend', 'start_clock', 'start_hour'],\n",
       "      dtype='object')"
      ]
     },
     "execution_count": 131,
     "metadata": {},
     "output_type": "execute_result"
    }
   ],
   "source": [
    "df.columns"
   ]
  },
  {
   "cell_type": "code",
   "execution_count": 133,
   "metadata": {},
   "outputs": [
    {
     "data": {
      "text/plain": [
       "array([[  0. ,  15. , 360. ,  61. ,  10. ,   0. ,   0. ,   0. ,   1. ,\n",
       "          0. ,   0. ,   0. ],\n",
       "       [  0. ,  15. , 360. ,  61. ,  10. ,   0. ,   0. ,   0. ,   0. ,\n",
       "          0. ,   0. ,   0. ],\n",
       "       [  0. ,  15. , 360. ,  60.8,  10. ,   0. ,   0. ,   0. ,   0. ,\n",
       "          0. ,   0. ,   0. ],\n",
       "       [  0. ,  16. , 360. ,  61. ,  10. ,   0. ,   0. ,   0. ,   1. ,\n",
       "          0. ,   0. ,   0. ],\n",
       "       [  0. ,  16. , 360. ,  61. ,  10. ,   0. ,   0. ,   1. ,   0. ,\n",
       "          0. ,   0. ,   1. ]])"
      ]
     },
     "execution_count": 133,
     "metadata": {},
     "output_type": "execute_result"
    }
   ],
   "source": [
    "X = np.asarray(df[['weekend', 'start_hour', 'delay_minutes', 'Temperature(F)', 'Visibility(mi)', 'Precipitation(in)', 'Amenity', 'Crossing', 'Junction', 'Station', 'Stop', 'Traffic_Signal']])\n",
    "X[0:5]"
   ]
  },
  {
   "cell_type": "code",
   "execution_count": 134,
   "metadata": {},
   "outputs": [],
   "source": [
    "y = np.asarray(df['Severity'])"
   ]
  },
  {
   "cell_type": "code",
   "execution_count": 135,
   "metadata": {},
   "outputs": [
    {
     "data": {
      "text/plain": [
       "array([[-0.34583847,  0.52285629,  0.82817484, -0.69272158,  0.31414719,\n",
       "        -0.12835894, -0.06234704, -0.15494948,  1.87387661, -0.05095137,\n",
       "        -0.04576941, -0.3241233 ],\n",
       "       [-0.34583847,  0.52285629,  0.82817484, -0.69272158,  0.31414719,\n",
       "        -0.12835894, -0.06234704, -0.15494948, -0.53365307, -0.05095137,\n",
       "        -0.04576941, -0.3241233 ],\n",
       "       [-0.34583847,  0.52285629,  0.82817484, -0.70557781,  0.31414719,\n",
       "        -0.12835894, -0.06234704, -0.15494948, -0.53365307, -0.05095137,\n",
       "        -0.04576941, -0.3241233 ],\n",
       "       [-0.34583847,  0.71717044,  0.82817484, -0.69272158,  0.31414719,\n",
       "        -0.12835894, -0.06234704, -0.15494948,  1.87387661, -0.05095137,\n",
       "        -0.04576941, -0.3241233 ],\n",
       "       [-0.34583847,  0.71717044,  0.82817484, -0.69272158,  0.31414719,\n",
       "        -0.12835894, -0.06234704,  6.45371644, -0.53365307, -0.05095137,\n",
       "        -0.04576941,  3.08524564]])"
      ]
     },
     "execution_count": 135,
     "metadata": {},
     "output_type": "execute_result"
    }
   ],
   "source": [
    "from sklearn import preprocessing\n",
    "X = preprocessing.StandardScaler().fit(X).transform(X)\n",
    "X[0:5]"
   ]
  },
  {
   "cell_type": "code",
   "execution_count": 136,
   "metadata": {},
   "outputs": [
    {
     "name": "stdout",
     "output_type": "stream",
     "text": [
      "Train set: (33676, 12) (33676,)\n",
      "Test set: (8420, 12) (8420,)\n"
     ]
    }
   ],
   "source": [
    "from sklearn.model_selection import train_test_split\n",
    "X_train, X_test, y_train, y_test = train_test_split( X, y, test_size=0.2, random_state=4)\n",
    "print ('Train set:', X_train.shape,  y_train.shape)\n",
    "print ('Test set:', X_test.shape,  y_test.shape)"
   ]
  },
  {
   "cell_type": "code",
   "execution_count": 137,
   "metadata": {},
   "outputs": [
    {
     "data": {
      "text/plain": [
       "LogisticRegression(C=0.01, solver='liblinear')"
      ]
     },
     "execution_count": 137,
     "metadata": {},
     "output_type": "execute_result"
    }
   ],
   "source": [
    "from sklearn.linear_model import LogisticRegression\n",
    "from sklearn.metrics import confusion_matrix\n",
    "LR = LogisticRegression(C=0.01, solver='liblinear').fit(X_train,y_train)\n",
    "LR"
   ]
  },
  {
   "cell_type": "code",
   "execution_count": 138,
   "metadata": {},
   "outputs": [
    {
     "data": {
      "text/plain": [
       "array([1, 0, 1, ..., 0, 0, 0])"
      ]
     },
     "execution_count": 138,
     "metadata": {},
     "output_type": "execute_result"
    }
   ],
   "source": [
    "yhat = LR.predict(X_test)\n",
    "yhat"
   ]
  },
  {
   "cell_type": "code",
   "execution_count": 139,
   "metadata": {},
   "outputs": [
    {
     "data": {
      "text/plain": [
       "array([[0.42001416, 0.57998584],\n",
       "       [0.59534947, 0.40465053],\n",
       "       [0.3644783 , 0.6355217 ],\n",
       "       ...,\n",
       "       [0.81555358, 0.18444642],\n",
       "       [0.57306082, 0.42693918],\n",
       "       [0.54649132, 0.45350868]])"
      ]
     },
     "execution_count": 139,
     "metadata": {},
     "output_type": "execute_result"
    }
   ],
   "source": [
    "yhat_prob = LR.predict_proba(X_test)\n",
    "yhat_prob"
   ]
  },
  {
   "cell_type": "markdown",
   "metadata": {},
   "source": [
    "<h2>Evaluation</h2>"
   ]
  },
  {
   "cell_type": "code",
   "execution_count": 141,
   "metadata": {},
   "outputs": [
    {
     "name": "stdout",
     "output_type": "stream",
     "text": [
      "              precision    recall  f1-score   support\n",
      "\n",
      "           0       0.61      0.72      0.66      4203\n",
      "           1       0.66      0.55      0.60      4217\n",
      "\n",
      "    accuracy                           0.63      8420\n",
      "   macro avg       0.64      0.63      0.63      8420\n",
      "weighted avg       0.64      0.63      0.63      8420\n",
      "\n"
     ]
    }
   ],
   "source": [
    "from sklearn.metrics import classification_report, confusion_matrix\n",
    "import itertools\n",
    "print (classification_report(y_test, yhat))"
   ]
  },
  {
   "cell_type": "markdown",
   "metadata": {},
   "source": [
    "<p>Based on the classification report above, the logistic regression model was more accurate at predicting more severe accidents (where Severity = 1) than those that were less severe (where Severity = 0), for the test data, as given by the precision score. However, the true positive rate (given by recall) of the less severe accidents was higher. The f-1 score is slightly higher for the less severe accidents, but overall, the model was successful at predicting over half of the outcomes successfully.</p>"
   ]
  },
  {
   "cell_type": "code",
   "execution_count": 143,
   "metadata": {},
   "outputs": [
    {
     "name": "stdout",
     "output_type": "stream",
     "text": [
      "[[2306 1911]\n",
      " [1178 3025]]\n"
     ]
    }
   ],
   "source": [
    "import itertools\n",
    "def plot_confusion_matrix(cm, classes,\n",
    "                          normalize=False,\n",
    "                          title='Confusion matrix',\n",
    "                          cmap=plt.cm.Blues):\n",
    "    \"\"\"\n",
    "    This function prints and plots the confusion matrix.\n",
    "    Normalization can be applied by setting `normalize=True`.\n",
    "    \"\"\"\n",
    "    if normalize:\n",
    "        cm = cm.astype('float') / cm.sum(axis=1)[:, np.newaxis]\n",
    "        print(\"Normalized confusion matrix\")\n",
    "    else:\n",
    "        print('Confusion matrix, without normalization')\n",
    "\n",
    "    print(cm)\n",
    "\n",
    "    plt.imshow(cm, interpolation='nearest', cmap=cmap)\n",
    "    plt.title(title)\n",
    "    plt.colorbar()\n",
    "    tick_marks = np.arange(len(classes))\n",
    "    plt.xticks(tick_marks, classes, rotation=45)\n",
    "    plt.yticks(tick_marks, classes)\n",
    "\n",
    "    fmt = '.2f' if normalize else 'd'\n",
    "    thresh = cm.max() / 2.\n",
    "    for i, j in itertools.product(range(cm.shape[0]), range(cm.shape[1])):\n",
    "        plt.text(j, i, format(cm[i, j], fmt),\n",
    "                 horizontalalignment=\"center\",\n",
    "                 color=\"white\" if cm[i, j] > thresh else \"black\")\n",
    "\n",
    "    plt.tight_layout()\n",
    "    plt.ylabel('True label')\n",
    "    plt.xlabel('Predicted label')\n",
    "print(confusion_matrix(y_test, yhat, labels=[1,0]))"
   ]
  },
  {
   "cell_type": "code",
   "execution_count": 145,
   "metadata": {},
   "outputs": [
    {
     "name": "stdout",
     "output_type": "stream",
     "text": [
      "Confusion matrix, without normalization\n",
      "[[2306 1911]\n",
      " [1178 3025]]\n"
     ]
    },
    {
     "data": {
      "image/png": "[encoded data removed]",
      "text/plain": [
       "<Figure size 432x288 with 2 Axes>"
      ]
     },
     "metadata": {
      "needs_background": "light"
     },
     "output_type": "display_data"
    }
   ],
   "source": [
    "# Compute confusion matrix\n",
    "cnf_matrix = confusion_matrix(y_test, yhat, labels=[1,0])\n",
    "np.set_printoptions(precision=2)\n",
    "\n",
    "\n",
    "# Plot non-normalized confusion matrix\n",
    "plt.figure()\n",
    "plot_confusion_matrix(cnf_matrix, classes=['Severity=1','Severity=0'],normalize= False,  title='Confusion matrix')"
   ]
  },
  {
   "cell_type": "markdown",
   "metadata": {},
   "source": [
    "<p>The confusion matricx (above figure) plots the true label of the test data against the predicted label, and echos the classification table.</p>"
   ]
  },
  {
   "cell_type": "code",
   "execution_count": 142,
   "metadata": {},
   "outputs": [
    {
     "data": {
      "text/plain": [
       "0.6438293483405915"
      ]
     },
     "execution_count": 142,
     "metadata": {},
     "output_type": "execute_result"
    }
   ],
   "source": [
    "from sklearn.metrics import log_loss\n",
    "log_loss(y_test, yhat_prob)"
   ]
  },
  {
   "cell_type": "markdown",
   "metadata": {},
   "source": [
    "<p>Finally, the log loss of the model is given in the cell above, indicating that there is certainly room for improvement in constructing the model.</p>"
   ]
  },
  {
   "cell_type": "code",
   "execution_count": null,
   "metadata": {},
   "outputs": [],
   "source": []
  }
 ],
 "metadata": {
  "kernelspec": {
   "display_name": "Python 3",
   "language": "python",
   "name": "python3"
  },
  "language_info": {
   "codemirror_mode": {
    "name": "ipython",
    "version": 3
   },
   "file_extension": ".py",
   "mimetype": "text/x-python",
   "name": "python",
   "nbconvert_exporter": "python",
   "pygments_lexer": "ipython3",
   "version": "3.8.3"
  }
 },
 "nbformat": 4,
 "nbformat_minor": 4
}
